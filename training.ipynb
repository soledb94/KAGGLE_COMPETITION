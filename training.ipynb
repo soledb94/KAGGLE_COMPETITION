{
 "cells": [
  {
   "cell_type": "code",
   "execution_count": 1,
   "metadata": {},
   "outputs": [
    {
     "name": "stderr",
     "output_type": "stream",
     "text": [
      "/opt/anaconda3/lib/python3.7/site-packages/statsmodels/tools/_testing.py:19: FutureWarning: pandas.util.testing is deprecated. Use the functions in the public API at pandas.testing instead.\n",
      "  import pandas.util.testing as tm\n"
     ]
    }
   ],
   "source": [
    "import pandas as pd\n",
    "import numpy as np\n",
    "#import warnings\n",
    "#warnings.filterwarnings('ignore')\n",
    "import math\n",
    "import matplotlib.pyplot as plt\n",
    "import seaborn as sns"
   ]
  },
  {
   "cell_type": "code",
   "execution_count": 2,
   "metadata": {},
   "outputs": [],
   "source": [
    "from sklearn.linear_model import LinearRegression,Ridge,Lasso,RidgeCV, ElasticNet,LogisticRegression\n",
    "from sklearn.ensemble import RandomForestRegressor,BaggingRegressor,AdaBoostRegressor \n",
    "from sklearn.svm import SVR,SVC\n",
    "from sklearn.neighbors import KNeighborsRegressor\n",
    "from sklearn.neural_network import MLPRegressor\n",
    "from sklearn.metrics import mean_squared_error\n",
    "from sklearn.experimental import enable_hist_gradient_boosting\n",
    "from sklearn.ensemble import HistGradientBoostingClassifier,HistGradientBoostingRegressor,GradientBoostingRegressor \n",
    "from sklearn.preprocessing import Normalizer , scale\n",
    "from sklearn.model_selection import train_test_split\n",
    "from sklearn.feature_selection import RFECV\n",
    "from sklearn.model_selection import GridSearchCV"
   ]
  },
  {
   "cell_type": "markdown",
   "metadata": {},
   "source": [
    "# TRAIN DATASET CLEANING"
   ]
  },
  {
   "cell_type": "code",
   "execution_count": 3,
   "metadata": {},
   "outputs": [],
   "source": [
    "train_dataset = pd.read_csv('diamonds_train.csv', index_col=0)\n"
   ]
  },
  {
   "cell_type": "code",
   "execution_count": 4,
   "metadata": {},
   "outputs": [
    {
     "data": {
      "text/html": [
       "<div>\n",
       "<style scoped>\n",
       "    .dataframe tbody tr th:only-of-type {\n",
       "        vertical-align: middle;\n",
       "    }\n",
       "\n",
       "    .dataframe tbody tr th {\n",
       "        vertical-align: top;\n",
       "    }\n",
       "\n",
       "    .dataframe thead th {\n",
       "        text-align: right;\n",
       "    }\n",
       "</style>\n",
       "<table border=\"1\" class=\"dataframe\">\n",
       "  <thead>\n",
       "    <tr style=\"text-align: right;\">\n",
       "      <th></th>\n",
       "      <th>carat</th>\n",
       "      <th>cut</th>\n",
       "      <th>color</th>\n",
       "      <th>clarity</th>\n",
       "      <th>depth</th>\n",
       "      <th>table</th>\n",
       "      <th>x</th>\n",
       "      <th>y</th>\n",
       "      <th>z</th>\n",
       "      <th>price</th>\n",
       "    </tr>\n",
       "  </thead>\n",
       "  <tbody>\n",
       "    <tr>\n",
       "      <th>0</th>\n",
       "      <td>1.21</td>\n",
       "      <td>Ideal</td>\n",
       "      <td>H</td>\n",
       "      <td>VS2</td>\n",
       "      <td>63.0</td>\n",
       "      <td>57.0</td>\n",
       "      <td>6.73</td>\n",
       "      <td>6.70</td>\n",
       "      <td>4.23</td>\n",
       "      <td>6134</td>\n",
       "    </tr>\n",
       "    <tr>\n",
       "      <th>1</th>\n",
       "      <td>0.28</td>\n",
       "      <td>Very Good</td>\n",
       "      <td>D</td>\n",
       "      <td>VVS2</td>\n",
       "      <td>64.0</td>\n",
       "      <td>56.0</td>\n",
       "      <td>4.14</td>\n",
       "      <td>4.17</td>\n",
       "      <td>2.66</td>\n",
       "      <td>532</td>\n",
       "    </tr>\n",
       "    <tr>\n",
       "      <th>2</th>\n",
       "      <td>0.42</td>\n",
       "      <td>Premium</td>\n",
       "      <td>F</td>\n",
       "      <td>VS1</td>\n",
       "      <td>61.2</td>\n",
       "      <td>58.0</td>\n",
       "      <td>4.86</td>\n",
       "      <td>4.82</td>\n",
       "      <td>2.96</td>\n",
       "      <td>1103</td>\n",
       "    </tr>\n",
       "    <tr>\n",
       "      <th>3</th>\n",
       "      <td>0.26</td>\n",
       "      <td>Ideal</td>\n",
       "      <td>H</td>\n",
       "      <td>IF</td>\n",
       "      <td>61.1</td>\n",
       "      <td>57.0</td>\n",
       "      <td>4.16</td>\n",
       "      <td>4.12</td>\n",
       "      <td>2.53</td>\n",
       "      <td>600</td>\n",
       "    </tr>\n",
       "    <tr>\n",
       "      <th>4</th>\n",
       "      <td>1.10</td>\n",
       "      <td>Good</td>\n",
       "      <td>G</td>\n",
       "      <td>SI1</td>\n",
       "      <td>63.4</td>\n",
       "      <td>57.0</td>\n",
       "      <td>6.52</td>\n",
       "      <td>6.55</td>\n",
       "      <td>4.14</td>\n",
       "      <td>4997</td>\n",
       "    </tr>\n",
       "  </tbody>\n",
       "</table>\n",
       "</div>"
      ],
      "text/plain": [
       "   carat        cut color clarity  depth  table     x     y     z  price\n",
       "0   1.21      Ideal     H     VS2   63.0   57.0  6.73  6.70  4.23   6134\n",
       "1   0.28  Very Good     D    VVS2   64.0   56.0  4.14  4.17  2.66    532\n",
       "2   0.42    Premium     F     VS1   61.2   58.0  4.86  4.82  2.96   1103\n",
       "3   0.26      Ideal     H      IF   61.1   57.0  4.16  4.12  2.53    600\n",
       "4   1.10       Good     G     SI1   63.4   57.0  6.52  6.55  4.14   4997"
      ]
     },
     "execution_count": 4,
     "metadata": {},
     "output_type": "execute_result"
    }
   ],
   "source": [
    "train_dataset.head()"
   ]
  },
  {
   "cell_type": "code",
   "execution_count": 5,
   "metadata": {},
   "outputs": [
    {
     "data": {
      "text/plain": [
       "(40345, 10)"
      ]
     },
     "execution_count": 5,
     "metadata": {},
     "output_type": "execute_result"
    }
   ],
   "source": [
    "train_dataset.shape"
   ]
  },
  {
   "cell_type": "code",
   "execution_count": 6,
   "metadata": {},
   "outputs": [
    {
     "data": {
      "text/plain": [
       "carat      float64\n",
       "cut         object\n",
       "color       object\n",
       "clarity     object\n",
       "depth      float64\n",
       "table      float64\n",
       "x          float64\n",
       "y          float64\n",
       "z          float64\n",
       "price        int64\n",
       "dtype: object"
      ]
     },
     "execution_count": 6,
     "metadata": {},
     "output_type": "execute_result"
    }
   ],
   "source": [
    "train_dataset.dtypes"
   ]
  },
  {
   "cell_type": "code",
   "execution_count": 7,
   "metadata": {},
   "outputs": [
    {
     "data": {
      "text/html": [
       "<div>\n",
       "<style scoped>\n",
       "    .dataframe tbody tr th:only-of-type {\n",
       "        vertical-align: middle;\n",
       "    }\n",
       "\n",
       "    .dataframe tbody tr th {\n",
       "        vertical-align: top;\n",
       "    }\n",
       "\n",
       "    .dataframe thead th {\n",
       "        text-align: right;\n",
       "    }\n",
       "</style>\n",
       "<table border=\"1\" class=\"dataframe\">\n",
       "  <thead>\n",
       "    <tr style=\"text-align: right;\">\n",
       "      <th></th>\n",
       "      <th>carat</th>\n",
       "      <th>depth</th>\n",
       "      <th>table</th>\n",
       "      <th>x</th>\n",
       "      <th>y</th>\n",
       "      <th>z</th>\n",
       "      <th>price</th>\n",
       "    </tr>\n",
       "  </thead>\n",
       "  <tbody>\n",
       "    <tr>\n",
       "      <th>count</th>\n",
       "      <td>40345.000000</td>\n",
       "      <td>40345.000000</td>\n",
       "      <td>40345.000000</td>\n",
       "      <td>40345.000000</td>\n",
       "      <td>40345.000000</td>\n",
       "      <td>40345.000000</td>\n",
       "      <td>40345.000000</td>\n",
       "    </tr>\n",
       "    <tr>\n",
       "      <th>mean</th>\n",
       "      <td>0.795652</td>\n",
       "      <td>61.750413</td>\n",
       "      <td>57.460302</td>\n",
       "      <td>5.726106</td>\n",
       "      <td>5.730217</td>\n",
       "      <td>3.535136</td>\n",
       "      <td>3924.089924</td>\n",
       "    </tr>\n",
       "    <tr>\n",
       "      <th>std</th>\n",
       "      <td>0.470806</td>\n",
       "      <td>1.424219</td>\n",
       "      <td>2.235333</td>\n",
       "      <td>1.118690</td>\n",
       "      <td>1.148584</td>\n",
       "      <td>0.693662</td>\n",
       "      <td>3982.000515</td>\n",
       "    </tr>\n",
       "    <tr>\n",
       "      <th>min</th>\n",
       "      <td>0.200000</td>\n",
       "      <td>43.000000</td>\n",
       "      <td>43.000000</td>\n",
       "      <td>0.000000</td>\n",
       "      <td>0.000000</td>\n",
       "      <td>0.000000</td>\n",
       "      <td>326.000000</td>\n",
       "    </tr>\n",
       "    <tr>\n",
       "      <th>25%</th>\n",
       "      <td>0.400000</td>\n",
       "      <td>61.000000</td>\n",
       "      <td>56.000000</td>\n",
       "      <td>4.710000</td>\n",
       "      <td>4.720000</td>\n",
       "      <td>2.910000</td>\n",
       "      <td>948.000000</td>\n",
       "    </tr>\n",
       "    <tr>\n",
       "      <th>50%</th>\n",
       "      <td>0.700000</td>\n",
       "      <td>61.800000</td>\n",
       "      <td>57.000000</td>\n",
       "      <td>5.690000</td>\n",
       "      <td>5.710000</td>\n",
       "      <td>3.520000</td>\n",
       "      <td>2395.000000</td>\n",
       "    </tr>\n",
       "    <tr>\n",
       "      <th>75%</th>\n",
       "      <td>1.040000</td>\n",
       "      <td>62.500000</td>\n",
       "      <td>59.000000</td>\n",
       "      <td>6.540000</td>\n",
       "      <td>6.530000</td>\n",
       "      <td>4.030000</td>\n",
       "      <td>5313.000000</td>\n",
       "    </tr>\n",
       "    <tr>\n",
       "      <th>max</th>\n",
       "      <td>4.010000</td>\n",
       "      <td>79.000000</td>\n",
       "      <td>95.000000</td>\n",
       "      <td>10.020000</td>\n",
       "      <td>58.900000</td>\n",
       "      <td>8.060000</td>\n",
       "      <td>18818.000000</td>\n",
       "    </tr>\n",
       "  </tbody>\n",
       "</table>\n",
       "</div>"
      ],
      "text/plain": [
       "              carat         depth         table             x             y  \\\n",
       "count  40345.000000  40345.000000  40345.000000  40345.000000  40345.000000   \n",
       "mean       0.795652     61.750413     57.460302      5.726106      5.730217   \n",
       "std        0.470806      1.424219      2.235333      1.118690      1.148584   \n",
       "min        0.200000     43.000000     43.000000      0.000000      0.000000   \n",
       "25%        0.400000     61.000000     56.000000      4.710000      4.720000   \n",
       "50%        0.700000     61.800000     57.000000      5.690000      5.710000   \n",
       "75%        1.040000     62.500000     59.000000      6.540000      6.530000   \n",
       "max        4.010000     79.000000     95.000000     10.020000     58.900000   \n",
       "\n",
       "                  z         price  \n",
       "count  40345.000000  40345.000000  \n",
       "mean       3.535136   3924.089924  \n",
       "std        0.693662   3982.000515  \n",
       "min        0.000000    326.000000  \n",
       "25%        2.910000    948.000000  \n",
       "50%        3.520000   2395.000000  \n",
       "75%        4.030000   5313.000000  \n",
       "max        8.060000  18818.000000  "
      ]
     },
     "execution_count": 7,
     "metadata": {},
     "output_type": "execute_result"
    }
   ],
   "source": [
    "train_dataset.describe()\n",
    "\n",
    "# I see that length,width and depth have value 0 in some rows, what doesnt make sense to me and I decide to remove "
   ]
  },
  {
   "cell_type": "code",
   "execution_count": 8,
   "metadata": {},
   "outputs": [
    {
     "data": {
      "text/plain": [
       "<matplotlib.axes._subplots.AxesSubplot at 0x123f67fd0>"
      ]
     },
     "execution_count": 8,
     "metadata": {},
     "output_type": "execute_result"
    },
    {
     "data": {
      "image/png": "[encoded data removed]",
      "text/plain": [
       "<Figure size 432x288 with 1 Axes>"
      ]
     },
     "metadata": {
      "needs_background": "light"
     },
     "output_type": "display_data"
    }
   ],
   "source": [
    "sns.scatterplot(x=\"carat\",y=\"price\",data=train_dataset)"
   ]
  },
  {
   "cell_type": "code",
   "execution_count": 9,
   "metadata": {},
   "outputs": [
    {
     "data": {
      "text/plain": [
       "<matplotlib.axes._subplots.AxesSubplot at 0x10fc41450>"
      ]
     },
     "execution_count": 9,
     "metadata": {},
     "output_type": "execute_result"
    },
    {
     "data": {
      "image/png": "[encoded data removed]",
      "text/plain": [
       "<Figure size 432x288 with 2 Axes>"
      ]
     },
     "metadata": {
      "needs_background": "light"
     },
     "output_type": "display_data"
    }
   ],
   "source": [
    "corr = train_dataset.corr()\n",
    "sns.heatmap(data=corr, square=True , annot=True, cbar=True)"
   ]
  },
  {
   "cell_type": "code",
   "execution_count": 10,
   "metadata": {},
   "outputs": [],
   "source": [
    "# columns x,y anz z are highly correlated. I decide to remove them"
   ]
  },
  {
   "cell_type": "code",
   "execution_count": 11,
   "metadata": {},
   "outputs": [],
   "source": [
    "train_dataset.drop(['x','y','z'], axis=1, inplace= True)\n",
    "#df.head()"
   ]
  },
  {
   "cell_type": "code",
   "execution_count": 12,
   "metadata": {},
   "outputs": [
    {
     "data": {
      "text/plain": [
       "Ideal        16090\n",
       "Premium      10339\n",
       "Very Good     9036\n",
       "Good          3694\n",
       "Fair          1186\n",
       "Name: cut, dtype: int64"
      ]
     },
     "execution_count": 12,
     "metadata": {},
     "output_type": "execute_result"
    }
   ],
   "source": [
    "# CUT COLUMN\n",
    "train_dataset.cut.value_counts()"
   ]
  },
  {
   "cell_type": "code",
   "execution_count": 13,
   "metadata": {},
   "outputs": [
    {
     "data": {
      "text/plain": [
       "array(['Ideal', 'Very Good', 'Premium', 'Good', 'Fair'], dtype=object)"
      ]
     },
     "execution_count": 13,
     "metadata": {},
     "output_type": "execute_result"
    }
   ],
   "source": [
    "train_dataset.cut.unique()"
   ]
  },
  {
   "cell_type": "code",
   "execution_count": 14,
   "metadata": {},
   "outputs": [],
   "source": [
    "cut=('Good','Fair','Very Good','Premium','Ideal')\n",
    "\n",
    "train_dataset[\"cut\"]=pd.Categorical(train_dataset.cut,ordered=True,categories=cut)\n",
    "train_dataset['cut_c'] = train_dataset.cut.cat.codes\n",
    "\n"
   ]
  },
  {
   "cell_type": "code",
   "execution_count": 15,
   "metadata": {},
   "outputs": [],
   "source": [
    "color=('J', 'H', 'I','E','G','F','D')\n",
    "\n",
    "train_dataset[\"color\"]=pd.Categorical(train_dataset.color,ordered=True,categories=color)\n",
    "train_dataset['color_c'] = train_dataset.color.cat.codes"
   ]
  },
  {
   "cell_type": "code",
   "execution_count": 16,
   "metadata": {},
   "outputs": [],
   "source": [
    "clarity=(\"I1\", \"SI2\", \"SI1\", \"VS2\", \"VS1\", \"VVS2\", \"VVS1\",\"IF\")\n",
    "\n",
    "train_dataset[\"clarity\"]=pd.Categorical(train_dataset.clarity,ordered=True,categories=clarity)\n",
    "train_dataset['clarity_c'] = train_dataset.clarity.cat.codes"
   ]
  },
  {
   "cell_type": "code",
   "execution_count": 17,
   "metadata": {},
   "outputs": [],
   "source": [
    "train_dataset.drop(['cut','color','clarity'], inplace = True, axis=1)\n"
   ]
  },
  {
   "cell_type": "code",
   "execution_count": 18,
   "metadata": {},
   "outputs": [
    {
     "data": {
      "text/html": [
       "<div>\n",
       "<style scoped>\n",
       "    .dataframe tbody tr th:only-of-type {\n",
       "        vertical-align: middle;\n",
       "    }\n",
       "\n",
       "    .dataframe tbody tr th {\n",
       "        vertical-align: top;\n",
       "    }\n",
       "\n",
       "    .dataframe thead th {\n",
       "        text-align: right;\n",
       "    }\n",
       "</style>\n",
       "<table border=\"1\" class=\"dataframe\">\n",
       "  <thead>\n",
       "    <tr style=\"text-align: right;\">\n",
       "      <th></th>\n",
       "      <th>carat</th>\n",
       "      <th>depth</th>\n",
       "      <th>table</th>\n",
       "      <th>price</th>\n",
       "      <th>cut_c</th>\n",
       "      <th>color_c</th>\n",
       "      <th>clarity_c</th>\n",
       "    </tr>\n",
       "  </thead>\n",
       "  <tbody>\n",
       "    <tr>\n",
       "      <th>0</th>\n",
       "      <td>1.21</td>\n",
       "      <td>63.0</td>\n",
       "      <td>57.0</td>\n",
       "      <td>6134</td>\n",
       "      <td>4</td>\n",
       "      <td>1</td>\n",
       "      <td>3</td>\n",
       "    </tr>\n",
       "    <tr>\n",
       "      <th>1</th>\n",
       "      <td>0.28</td>\n",
       "      <td>64.0</td>\n",
       "      <td>56.0</td>\n",
       "      <td>532</td>\n",
       "      <td>2</td>\n",
       "      <td>6</td>\n",
       "      <td>5</td>\n",
       "    </tr>\n",
       "    <tr>\n",
       "      <th>2</th>\n",
       "      <td>0.42</td>\n",
       "      <td>61.2</td>\n",
       "      <td>58.0</td>\n",
       "      <td>1103</td>\n",
       "      <td>3</td>\n",
       "      <td>5</td>\n",
       "      <td>4</td>\n",
       "    </tr>\n",
       "    <tr>\n",
       "      <th>3</th>\n",
       "      <td>0.26</td>\n",
       "      <td>61.1</td>\n",
       "      <td>57.0</td>\n",
       "      <td>600</td>\n",
       "      <td>4</td>\n",
       "      <td>1</td>\n",
       "      <td>7</td>\n",
       "    </tr>\n",
       "    <tr>\n",
       "      <th>4</th>\n",
       "      <td>1.10</td>\n",
       "      <td>63.4</td>\n",
       "      <td>57.0</td>\n",
       "      <td>4997</td>\n",
       "      <td>0</td>\n",
       "      <td>4</td>\n",
       "      <td>2</td>\n",
       "    </tr>\n",
       "    <tr>\n",
       "      <th>...</th>\n",
       "      <td>...</td>\n",
       "      <td>...</td>\n",
       "      <td>...</td>\n",
       "      <td>...</td>\n",
       "      <td>...</td>\n",
       "      <td>...</td>\n",
       "      <td>...</td>\n",
       "    </tr>\n",
       "    <tr>\n",
       "      <th>40340</th>\n",
       "      <td>1.55</td>\n",
       "      <td>61.3</td>\n",
       "      <td>61.0</td>\n",
       "      <td>11708</td>\n",
       "      <td>3</td>\n",
       "      <td>1</td>\n",
       "      <td>3</td>\n",
       "    </tr>\n",
       "    <tr>\n",
       "      <th>40341</th>\n",
       "      <td>0.36</td>\n",
       "      <td>60.6</td>\n",
       "      <td>56.0</td>\n",
       "      <td>619</td>\n",
       "      <td>4</td>\n",
       "      <td>6</td>\n",
       "      <td>2</td>\n",
       "    </tr>\n",
       "    <tr>\n",
       "      <th>40342</th>\n",
       "      <td>0.57</td>\n",
       "      <td>62.2</td>\n",
       "      <td>55.0</td>\n",
       "      <td>1267</td>\n",
       "      <td>2</td>\n",
       "      <td>2</td>\n",
       "      <td>3</td>\n",
       "    </tr>\n",
       "    <tr>\n",
       "      <th>40343</th>\n",
       "      <td>1.01</td>\n",
       "      <td>59.6</td>\n",
       "      <td>62.0</td>\n",
       "      <td>9965</td>\n",
       "      <td>2</td>\n",
       "      <td>5</td>\n",
       "      <td>7</td>\n",
       "    </tr>\n",
       "    <tr>\n",
       "      <th>40344</th>\n",
       "      <td>0.54</td>\n",
       "      <td>60.4</td>\n",
       "      <td>57.0</td>\n",
       "      <td>1340</td>\n",
       "      <td>4</td>\n",
       "      <td>3</td>\n",
       "      <td>1</td>\n",
       "    </tr>\n",
       "  </tbody>\n",
       "</table>\n",
       "<p>40345 rows × 7 columns</p>\n",
       "</div>"
      ],
      "text/plain": [
       "       carat  depth  table  price  cut_c  color_c  clarity_c\n",
       "0       1.21   63.0   57.0   6134      4        1          3\n",
       "1       0.28   64.0   56.0    532      2        6          5\n",
       "2       0.42   61.2   58.0   1103      3        5          4\n",
       "3       0.26   61.1   57.0    600      4        1          7\n",
       "4       1.10   63.4   57.0   4997      0        4          2\n",
       "...      ...    ...    ...    ...    ...      ...        ...\n",
       "40340   1.55   61.3   61.0  11708      3        1          3\n",
       "40341   0.36   60.6   56.0    619      4        6          2\n",
       "40342   0.57   62.2   55.0   1267      2        2          3\n",
       "40343   1.01   59.6   62.0   9965      2        5          7\n",
       "40344   0.54   60.4   57.0   1340      4        3          1\n",
       "\n",
       "[40345 rows x 7 columns]"
      ]
     },
     "execution_count": 18,
     "metadata": {},
     "output_type": "execute_result"
    }
   ],
   "source": [
    "train_dataset"
   ]
  },
  {
   "cell_type": "code",
   "execution_count": 19,
   "metadata": {},
   "outputs": [
    {
     "data": {
      "text/plain": [
       "carat        0\n",
       "depth        0\n",
       "table        0\n",
       "price        0\n",
       "cut_c        0\n",
       "color_c      0\n",
       "clarity_c    0\n",
       "dtype: int64"
      ]
     },
     "execution_count": 19,
     "metadata": {},
     "output_type": "execute_result"
    }
   ],
   "source": [
    "# NOT NULL VALUES\n",
    "train_dataset.isnull().sum()"
   ]
  },
  {
   "cell_type": "code",
   "execution_count": 20,
   "metadata": {},
   "outputs": [
    {
     "data": {
      "text/plain": [
       "Index(['carat', 'depth', 'table', 'price', 'cut_c', 'color_c', 'clarity_c'], dtype='object')"
      ]
     },
     "execution_count": 20,
     "metadata": {},
     "output_type": "execute_result"
    }
   ],
   "source": [
    "train_dataset.columns"
   ]
  },
  {
   "cell_type": "code",
   "execution_count": 21,
   "metadata": {},
   "outputs": [],
   "source": [
    "X = train_dataset[['carat', 'depth', 'table', 'cut_c', 'color_c', 'clarity_c']]\n",
    "y=train_dataset['price']\n"
   ]
  },
  {
   "cell_type": "code",
   "execution_count": 22,
   "metadata": {},
   "outputs": [
    {
     "name": "stdout",
     "output_type": "stream",
     "text": [
      "(40345, 6) (40345,)\n"
     ]
    }
   ],
   "source": [
    "print(X.shape, y.shape)"
   ]
  },
  {
   "cell_type": "code",
   "execution_count": 23,
   "metadata": {},
   "outputs": [],
   "source": [
    "train_dataset.to_csv('diamonds_train_cleaned.csv')\n"
   ]
  },
  {
   "cell_type": "code",
   "execution_count": null,
   "metadata": {},
   "outputs": [],
   "source": []
  },
  {
   "cell_type": "code",
   "execution_count": 24,
   "metadata": {},
   "outputs": [],
   "source": [
    "from sklearn.model_selection import train_test_split"
   ]
  },
  {
   "cell_type": "code",
   "execution_count": 25,
   "metadata": {},
   "outputs": [],
   "source": [
    "X_train, X_test, y_train, y_test = train_test_split(X, y, test_size=0.2)"
   ]
  },
  {
   "cell_type": "markdown",
   "metadata": {},
   "source": [
    "# TEST DATASET CLEANING"
   ]
  },
  {
   "cell_type": "code",
   "execution_count": 26,
   "metadata": {},
   "outputs": [],
   "source": [
    "test = pd.read_csv('diamonds_test.csv', index_col=0)\n"
   ]
  },
  {
   "cell_type": "code",
   "execution_count": 27,
   "metadata": {},
   "outputs": [],
   "source": [
    "cut=('Good','Fair','Very Good','Premium','Ideal')\n",
    "\n",
    "test[\"cut\"]=pd.Categorical(test.cut,ordered=True,categories=cut)\n",
    "test['cut_c'] = test.cut.cat.codes"
   ]
  },
  {
   "cell_type": "code",
   "execution_count": 28,
   "metadata": {},
   "outputs": [],
   "source": [
    "color=('J', 'H', 'I','E','G','F','D')\n",
    "\n",
    "test[\"color\"]=pd.Categorical(test.color,ordered=True,categories=color)\n",
    "test['color_c'] = test.color.cat.codes"
   ]
  },
  {
   "cell_type": "code",
   "execution_count": 29,
   "metadata": {},
   "outputs": [],
   "source": [
    "clarity=(\"I1\", \"SI2\", \"SI1\", \"VS2\", \"VS1\", \"VVS2\", \"VVS1\",\"IF\")\n",
    "\n",
    "test[\"clarity\"]=pd.Categorical(test.clarity,ordered=True,categories=clarity)\n",
    "test['clarity_c'] = test.clarity.cat.codes"
   ]
  },
  {
   "cell_type": "code",
   "execution_count": 30,
   "metadata": {},
   "outputs": [
    {
     "data": {
      "text/html": [
       "<div>\n",
       "<style scoped>\n",
       "    .dataframe tbody tr th:only-of-type {\n",
       "        vertical-align: middle;\n",
       "    }\n",
       "\n",
       "    .dataframe tbody tr th {\n",
       "        vertical-align: top;\n",
       "    }\n",
       "\n",
       "    .dataframe thead th {\n",
       "        text-align: right;\n",
       "    }\n",
       "</style>\n",
       "<table border=\"1\" class=\"dataframe\">\n",
       "  <thead>\n",
       "    <tr style=\"text-align: right;\">\n",
       "      <th></th>\n",
       "      <th>carat</th>\n",
       "      <th>cut</th>\n",
       "      <th>color</th>\n",
       "      <th>clarity</th>\n",
       "      <th>depth</th>\n",
       "      <th>table</th>\n",
       "      <th>x</th>\n",
       "      <th>y</th>\n",
       "      <th>z</th>\n",
       "      <th>cut_c</th>\n",
       "      <th>color_c</th>\n",
       "      <th>clarity_c</th>\n",
       "    </tr>\n",
       "  </thead>\n",
       "  <tbody>\n",
       "    <tr>\n",
       "      <th>0</th>\n",
       "      <td>0.30</td>\n",
       "      <td>Ideal</td>\n",
       "      <td>H</td>\n",
       "      <td>SI2</td>\n",
       "      <td>60.0</td>\n",
       "      <td>56.0</td>\n",
       "      <td>4.41</td>\n",
       "      <td>4.43</td>\n",
       "      <td>2.65</td>\n",
       "      <td>4</td>\n",
       "      <td>1</td>\n",
       "      <td>1</td>\n",
       "    </tr>\n",
       "    <tr>\n",
       "      <th>1</th>\n",
       "      <td>0.34</td>\n",
       "      <td>Ideal</td>\n",
       "      <td>D</td>\n",
       "      <td>IF</td>\n",
       "      <td>62.1</td>\n",
       "      <td>57.0</td>\n",
       "      <td>4.52</td>\n",
       "      <td>4.46</td>\n",
       "      <td>2.79</td>\n",
       "      <td>4</td>\n",
       "      <td>6</td>\n",
       "      <td>7</td>\n",
       "    </tr>\n",
       "    <tr>\n",
       "      <th>2</th>\n",
       "      <td>1.57</td>\n",
       "      <td>Very Good</td>\n",
       "      <td>I</td>\n",
       "      <td>VS2</td>\n",
       "      <td>60.3</td>\n",
       "      <td>58.0</td>\n",
       "      <td>7.58</td>\n",
       "      <td>7.55</td>\n",
       "      <td>4.56</td>\n",
       "      <td>2</td>\n",
       "      <td>2</td>\n",
       "      <td>3</td>\n",
       "    </tr>\n",
       "    <tr>\n",
       "      <th>3</th>\n",
       "      <td>0.31</td>\n",
       "      <td>Ideal</td>\n",
       "      <td>H</td>\n",
       "      <td>VS2</td>\n",
       "      <td>61.8</td>\n",
       "      <td>57.0</td>\n",
       "      <td>4.32</td>\n",
       "      <td>4.36</td>\n",
       "      <td>2.68</td>\n",
       "      <td>4</td>\n",
       "      <td>1</td>\n",
       "      <td>3</td>\n",
       "    </tr>\n",
       "    <tr>\n",
       "      <th>4</th>\n",
       "      <td>1.51</td>\n",
       "      <td>Good</td>\n",
       "      <td>I</td>\n",
       "      <td>VVS1</td>\n",
       "      <td>64.0</td>\n",
       "      <td>60.0</td>\n",
       "      <td>7.26</td>\n",
       "      <td>7.21</td>\n",
       "      <td>4.63</td>\n",
       "      <td>0</td>\n",
       "      <td>2</td>\n",
       "      <td>6</td>\n",
       "    </tr>\n",
       "    <tr>\n",
       "      <th>...</th>\n",
       "      <td>...</td>\n",
       "      <td>...</td>\n",
       "      <td>...</td>\n",
       "      <td>...</td>\n",
       "      <td>...</td>\n",
       "      <td>...</td>\n",
       "      <td>...</td>\n",
       "      <td>...</td>\n",
       "      <td>...</td>\n",
       "      <td>...</td>\n",
       "      <td>...</td>\n",
       "      <td>...</td>\n",
       "    </tr>\n",
       "    <tr>\n",
       "      <th>13444</th>\n",
       "      <td>1.05</td>\n",
       "      <td>Ideal</td>\n",
       "      <td>F</td>\n",
       "      <td>SI2</td>\n",
       "      <td>60.3</td>\n",
       "      <td>55.0</td>\n",
       "      <td>6.55</td>\n",
       "      <td>6.68</td>\n",
       "      <td>3.99</td>\n",
       "      <td>4</td>\n",
       "      <td>5</td>\n",
       "      <td>1</td>\n",
       "    </tr>\n",
       "    <tr>\n",
       "      <th>13445</th>\n",
       "      <td>0.27</td>\n",
       "      <td>Very Good</td>\n",
       "      <td>G</td>\n",
       "      <td>VS1</td>\n",
       "      <td>61.9</td>\n",
       "      <td>56.0</td>\n",
       "      <td>4.13</td>\n",
       "      <td>4.16</td>\n",
       "      <td>2.56</td>\n",
       "      <td>2</td>\n",
       "      <td>4</td>\n",
       "      <td>4</td>\n",
       "    </tr>\n",
       "    <tr>\n",
       "      <th>13446</th>\n",
       "      <td>1.50</td>\n",
       "      <td>Premium</td>\n",
       "      <td>D</td>\n",
       "      <td>VS2</td>\n",
       "      <td>61.8</td>\n",
       "      <td>60.0</td>\n",
       "      <td>7.30</td>\n",
       "      <td>7.37</td>\n",
       "      <td>4.53</td>\n",
       "      <td>3</td>\n",
       "      <td>6</td>\n",
       "      <td>3</td>\n",
       "    </tr>\n",
       "    <tr>\n",
       "      <th>13447</th>\n",
       "      <td>1.70</td>\n",
       "      <td>Premium</td>\n",
       "      <td>F</td>\n",
       "      <td>SI2</td>\n",
       "      <td>60.2</td>\n",
       "      <td>61.0</td>\n",
       "      <td>7.79</td>\n",
       "      <td>7.68</td>\n",
       "      <td>4.66</td>\n",
       "      <td>3</td>\n",
       "      <td>5</td>\n",
       "      <td>1</td>\n",
       "    </tr>\n",
       "    <tr>\n",
       "      <th>13448</th>\n",
       "      <td>0.30</td>\n",
       "      <td>Ideal</td>\n",
       "      <td>D</td>\n",
       "      <td>VS2</td>\n",
       "      <td>61.2</td>\n",
       "      <td>57.0</td>\n",
       "      <td>4.29</td>\n",
       "      <td>4.34</td>\n",
       "      <td>2.64</td>\n",
       "      <td>4</td>\n",
       "      <td>6</td>\n",
       "      <td>3</td>\n",
       "    </tr>\n",
       "  </tbody>\n",
       "</table>\n",
       "<p>13449 rows × 12 columns</p>\n",
       "</div>"
      ],
      "text/plain": [
       "       carat        cut color clarity  depth  table     x     y     z  cut_c  \\\n",
       "0       0.30      Ideal     H     SI2   60.0   56.0  4.41  4.43  2.65      4   \n",
       "1       0.34      Ideal     D      IF   62.1   57.0  4.52  4.46  2.79      4   \n",
       "2       1.57  Very Good     I     VS2   60.3   58.0  7.58  7.55  4.56      2   \n",
       "3       0.31      Ideal     H     VS2   61.8   57.0  4.32  4.36  2.68      4   \n",
       "4       1.51       Good     I    VVS1   64.0   60.0  7.26  7.21  4.63      0   \n",
       "...      ...        ...   ...     ...    ...    ...   ...   ...   ...    ...   \n",
       "13444   1.05      Ideal     F     SI2   60.3   55.0  6.55  6.68  3.99      4   \n",
       "13445   0.27  Very Good     G     VS1   61.9   56.0  4.13  4.16  2.56      2   \n",
       "13446   1.50    Premium     D     VS2   61.8   60.0  7.30  7.37  4.53      3   \n",
       "13447   1.70    Premium     F     SI2   60.2   61.0  7.79  7.68  4.66      3   \n",
       "13448   0.30      Ideal     D     VS2   61.2   57.0  4.29  4.34  2.64      4   \n",
       "\n",
       "       color_c  clarity_c  \n",
       "0            1          1  \n",
       "1            6          7  \n",
       "2            2          3  \n",
       "3            1          3  \n",
       "4            2          6  \n",
       "...        ...        ...  \n",
       "13444        5          1  \n",
       "13445        4          4  \n",
       "13446        6          3  \n",
       "13447        5          1  \n",
       "13448        6          3  \n",
       "\n",
       "[13449 rows x 12 columns]"
      ]
     },
     "execution_count": 30,
     "metadata": {},
     "output_type": "execute_result"
    }
   ],
   "source": [
    "test"
   ]
  },
  {
   "cell_type": "code",
   "execution_count": 31,
   "metadata": {},
   "outputs": [],
   "source": [
    "test.drop(['cut','color','clarity'], inplace = True, axis=1)\n"
   ]
  },
  {
   "cell_type": "code",
   "execution_count": 32,
   "metadata": {},
   "outputs": [],
   "source": [
    "test.drop(['x','y','z'], axis=1, inplace= True)\n"
   ]
  },
  {
   "cell_type": "code",
   "execution_count": 33,
   "metadata": {},
   "outputs": [],
   "source": [
    "test.to_csv('test_dataset_cleaned')"
   ]
  },
  {
   "cell_type": "markdown",
   "metadata": {},
   "source": [
    "# FIRST MODELS OBSERVATION "
   ]
  },
  {
   "cell_type": "code",
   "execution_count": 34,
   "metadata": {},
   "outputs": [
    {
     "name": "stdout",
     "output_type": "stream",
     "text": [
      "Training model: GradientBoostingRegressor\n",
      "Training model: KNeighborsRegressor\n",
      "Training model: HistGradientBoostingRegressor\n",
      "Training model: RandomForestRegressor\n"
     ]
    }
   ],
   "source": [
    "models = {\n",
    "    \"GradientBoostingRegressor\" : GradientBoostingRegressor(),\n",
    "    \"KNeighborsRegressor\" : KNeighborsRegressor(),\n",
    "    \"HistGradientBoostingRegressor\" :HistGradientBoostingRegressor(),\n",
    "    \"RandomForestRegressor\" : RandomForestRegressor(n_estimators=100), \n",
    "}\n",
    "\n",
    "for modelName, model in models.items():\n",
    "    print(f\"Training model: {modelName}\")\n",
    "    model.fit(X_train, y_train)"
   ]
  },
  {
   "cell_type": "code",
   "execution_count": 35,
   "metadata": {},
   "outputs": [
    {
     "name": "stdout",
     "output_type": "stream",
     "text": [
      "Evaluating model GradientBoostingRegressor\n",
      "\t RSME: 663.991\n",
      "Evaluating model KNeighborsRegressor\n",
      "\t RSME: 1961.058\n",
      "Evaluating model HistGradientBoostingRegressor\n",
      "\t RSME: 557.497\n",
      "Evaluating model RandomForestRegressor\n",
      "\t RSME: 579.757\n"
     ]
    }
   ],
   "source": [
    "printMetric = lambda label,value:print(f\"\\t {label}: {round(value,3)}\")\n",
    "\n",
    "for name, model in models.items():\n",
    "    try:\n",
    "        y_pred = model.predict(X_test)\n",
    "        print(f\"Evaluating model {name}\")\n",
    "        printMetric(\"RSME\",math.sqrt(mean_squared_error(y_true = y_test, y_pred = y_pred)))\n",
    "\n",
    "    except:\n",
    "        print(\"Error\")"
   ]
  },
  {
   "cell_type": "markdown",
   "metadata": {},
   "source": [
    "## RANDOM FOREST"
   ]
  },
  {
   "cell_type": "code",
   "execution_count": 36,
   "metadata": {},
   "outputs": [],
   "source": [
    "model=RandomForestRegressor(n_estimators=250)"
   ]
  },
  {
   "cell_type": "code",
   "execution_count": 37,
   "metadata": {},
   "outputs": [
    {
     "data": {
      "text/plain": [
       "RandomForestRegressor(bootstrap=True, ccp_alpha=0.0, criterion='mse',\n",
       "                      max_depth=None, max_features='auto', max_leaf_nodes=None,\n",
       "                      max_samples=None, min_impurity_decrease=0.0,\n",
       "                      min_impurity_split=None, min_samples_leaf=1,\n",
       "                      min_samples_split=2, min_weight_fraction_leaf=0.0,\n",
       "                      n_estimators=250, n_jobs=None, oob_score=False,\n",
       "                      random_state=None, verbose=0, warm_start=False)"
      ]
     },
     "execution_count": 37,
     "metadata": {},
     "output_type": "execute_result"
    }
   ],
   "source": [
    "model.fit(X_train,y_train)"
   ]
  },
  {
   "cell_type": "code",
   "execution_count": 38,
   "metadata": {},
   "outputs": [],
   "source": [
    "y_pred=model.predict(X_test)"
   ]
  },
  {
   "cell_type": "code",
   "execution_count": 39,
   "metadata": {},
   "outputs": [
    {
     "data": {
      "text/plain": [
       "(8069,)"
      ]
     },
     "execution_count": 39,
     "metadata": {},
     "output_type": "execute_result"
    }
   ],
   "source": [
    "y_pred.shape"
   ]
  },
  {
   "cell_type": "code",
   "execution_count": 40,
   "metadata": {},
   "outputs": [
    {
     "data": {
      "text/plain": [
       "576.6755541577392"
      ]
     },
     "execution_count": 40,
     "metadata": {},
     "output_type": "execute_result"
    }
   ],
   "source": [
    "math.sqrt(mean_squared_error(y_true = y_test, y_pred = y_pred))"
   ]
  },
  {
   "cell_type": "code",
   "execution_count": 41,
   "metadata": {},
   "outputs": [],
   "source": [
    "y_pred2=model.predict(test)"
   ]
  },
  {
   "cell_type": "code",
   "execution_count": 42,
   "metadata": {},
   "outputs": [
    {
     "data": {
      "text/plain": [
       "array([  437.33066667,  1873.40706667,  9412.00266667, ...,\n",
       "       14933.471     , 10270.324     ,   749.76409524])"
      ]
     },
     "execution_count": 42,
     "metadata": {},
     "output_type": "execute_result"
    }
   ],
   "source": [
    "y_pred2"
   ]
  },
  {
   "cell_type": "code",
   "execution_count": 43,
   "metadata": {},
   "outputs": [],
   "source": [
    "y_pred3=model.predict(X[:8069])"
   ]
  },
  {
   "cell_type": "code",
   "execution_count": 44,
   "metadata": {},
   "outputs": [
    {
     "data": {
      "text/plain": [
       "5547.800680794261"
      ]
     },
     "execution_count": 44,
     "metadata": {},
     "output_type": "execute_result"
    }
   ],
   "source": [
    "math.sqrt(mean_squared_error(y_true = y_test, y_pred = y_pred3))"
   ]
  },
  {
   "cell_type": "markdown",
   "metadata": {},
   "source": [
    "# -------------------------------------------------------------------------------------------"
   ]
  },
  {
   "cell_type": "code",
   "execution_count": 45,
   "metadata": {},
   "outputs": [],
   "source": [
    "params = { 'n_estimators':[1500,1750],\n",
    "           'min_samples_split':[50, 100],\n",
    "           'min_samples_leaf': [50, 100]}\n",
    "\n",
    "tuning_gradient = GridSearchCV(estimator=RandomForestRegressor(max_depth=4, min_samples_split=2, min_samples_leaf=1,max_features='sqrt', random_state=10), \n",
    "            param_grid=params,n_jobs=4,iid=False, cv=5)\n",
    "\n",
    "#tuning_gradient.fit(X_train,y_train)"
   ]
  },
  {
   "cell_type": "code",
   "execution_count": 46,
   "metadata": {},
   "outputs": [
    {
     "name": "stderr",
     "output_type": "stream",
     "text": [
      "/opt/anaconda3/lib/python3.7/site-packages/sklearn/model_selection/_search.py:823: FutureWarning: The parameter 'iid' is deprecated in 0.22 and will be removed in 0.24.\n",
      "  \"removed in 0.24.\", FutureWarning\n"
     ]
    },
    {
     "data": {
      "text/plain": [
       "GridSearchCV(cv=5, error_score=nan,\n",
       "             estimator=RandomForestRegressor(bootstrap=True, ccp_alpha=0.0,\n",
       "                                             criterion='mse', max_depth=4,\n",
       "                                             max_features='sqrt',\n",
       "                                             max_leaf_nodes=None,\n",
       "                                             max_samples=None,\n",
       "                                             min_impurity_decrease=0.0,\n",
       "                                             min_impurity_split=None,\n",
       "                                             min_samples_leaf=1,\n",
       "                                             min_samples_split=2,\n",
       "                                             min_weight_fraction_leaf=0.0,\n",
       "                                             n_estimators=100, n_jobs=None,\n",
       "                                             oob_score=False, random_state=10,\n",
       "                                             verbose=0, warm_start=False),\n",
       "             iid=False, n_jobs=4,\n",
       "             param_grid={'min_samples_leaf': [50, 100],\n",
       "                         'min_samples_split': [50, 100],\n",
       "                         'n_estimators': [1500, 1750]},\n",
       "             pre_dispatch='2*n_jobs', refit=True, return_train_score=False,\n",
       "             scoring=None, verbose=0)"
      ]
     },
     "execution_count": 46,
     "metadata": {},
     "output_type": "execute_result"
    }
   ],
   "source": [
    "tuning_gradient.fit(X_train,y_train)"
   ]
  },
  {
   "cell_type": "code",
   "execution_count": 47,
   "metadata": {},
   "outputs": [
    {
     "name": "stderr",
     "output_type": "stream",
     "text": [
      "/opt/anaconda3/lib/python3.7/site-packages/sklearn/base.py:197: FutureWarning: From version 0.24, get_params will raise an AttributeError if a parameter cannot be retrieved as an instance attribute. Previously it would return None.\n",
      "  FutureWarning)\n"
     ]
    },
    {
     "data": {
      "text/plain": [
       "dict_keys(['bootstrap', 'ccp_alpha', 'criterion', 'max_depth', 'max_features', 'max_leaf_nodes', 'max_samples', 'min_impurity_decrease', 'min_impurity_split', 'min_samples_leaf', 'min_samples_split', 'min_weight_fraction_leaf', 'n_estimators', 'n_jobs', 'oob_score', 'random_state', 'verbose', 'warm_start'])"
      ]
     },
     "execution_count": 47,
     "metadata": {},
     "output_type": "execute_result"
    }
   ],
   "source": [
    "RandomForestRegressor.get_params(RandomForestRegressor).keys()"
   ]
  },
  {
   "cell_type": "code",
   "execution_count": 48,
   "metadata": {},
   "outputs": [],
   "source": [
    "y_pred = tuning_gradient.predict(X_test)\n"
   ]
  },
  {
   "cell_type": "code",
   "execution_count": 49,
   "metadata": {},
   "outputs": [
    {
     "data": {
      "text/plain": [
       "1766.9918299887738"
      ]
     },
     "execution_count": 49,
     "metadata": {},
     "output_type": "execute_result"
    }
   ],
   "source": [
    "math.sqrt(mean_squared_error(y_true = y_test, y_pred = y_pred))"
   ]
  },
  {
   "cell_type": "code",
   "execution_count": 50,
   "metadata": {},
   "outputs": [],
   "source": [
    "y_pred2=tuning_gradient.predict(test)"
   ]
  },
  {
   "cell_type": "code",
   "execution_count": 51,
   "metadata": {},
   "outputs": [],
   "source": [
    "y_pred3=tuning_gradient.predict(X[:8069])"
   ]
  },
  {
   "cell_type": "code",
   "execution_count": 52,
   "metadata": {},
   "outputs": [
    {
     "data": {
      "text/plain": [
       "4769.83721099453"
      ]
     },
     "execution_count": 52,
     "metadata": {},
     "output_type": "execute_result"
    }
   ],
   "source": [
    "math.sqrt(mean_squared_error(y_true = y_test, y_pred = y_pred3))"
   ]
  },
  {
   "cell_type": "markdown",
   "metadata": {},
   "source": [
    "# ----------------------------------------------------------------------------------------"
   ]
  },
  {
   "cell_type": "code",
   "execution_count": 53,
   "metadata": {},
   "outputs": [],
   "source": [
    "model=RandomForestRegressor(n_estimators=300)"
   ]
  },
  {
   "cell_type": "code",
   "execution_count": 54,
   "metadata": {},
   "outputs": [
    {
     "data": {
      "text/plain": [
       "RandomForestRegressor(bootstrap=True, ccp_alpha=0.0, criterion='mse',\n",
       "                      max_depth=None, max_features='auto', max_leaf_nodes=None,\n",
       "                      max_samples=None, min_impurity_decrease=0.0,\n",
       "                      min_impurity_split=None, min_samples_leaf=1,\n",
       "                      min_samples_split=2, min_weight_fraction_leaf=0.0,\n",
       "                      n_estimators=300, n_jobs=None, oob_score=False,\n",
       "                      random_state=None, verbose=0, warm_start=False)"
      ]
     },
     "execution_count": 54,
     "metadata": {},
     "output_type": "execute_result"
    }
   ],
   "source": [
    "model.fit(X_train,y_train)"
   ]
  },
  {
   "cell_type": "code",
   "execution_count": 55,
   "metadata": {},
   "outputs": [],
   "source": [
    "y_pred = model.predict(X_test)"
   ]
  },
  {
   "cell_type": "code",
   "execution_count": 56,
   "metadata": {},
   "outputs": [
    {
     "data": {
      "text/plain": [
       "576.7133968534849"
      ]
     },
     "execution_count": 56,
     "metadata": {},
     "output_type": "execute_result"
    }
   ],
   "source": [
    "math.sqrt(mean_squared_error(y_true = y_test, y_pred = y_pred))"
   ]
  },
  {
   "cell_type": "code",
   "execution_count": 57,
   "metadata": {},
   "outputs": [],
   "source": [
    "y_pred2=model.predict(test)"
   ]
  },
  {
   "cell_type": "code",
   "execution_count": 58,
   "metadata": {},
   "outputs": [],
   "source": [
    "y_pred3=model.predict(X[:8069])"
   ]
  },
  {
   "cell_type": "code",
   "execution_count": 59,
   "metadata": {},
   "outputs": [
    {
     "data": {
      "text/plain": [
       "5548.172454606542"
      ]
     },
     "execution_count": 59,
     "metadata": {},
     "output_type": "execute_result"
    }
   ],
   "source": [
    "math.sqrt(mean_squared_error(y_true = y_test, y_pred = y_pred3))"
   ]
  },
  {
   "cell_type": "code",
   "execution_count": 60,
   "metadata": {},
   "outputs": [],
   "source": [
    "#math.sqrt(mean_squared_error(y_true = y_test, y_pred = y_pred))"
   ]
  },
  {
   "cell_type": "markdown",
   "metadata": {},
   "source": [
    "# ----------------------------------------------------------------------------------------"
   ]
  },
  {
   "cell_type": "code",
   "execution_count": 61,
   "metadata": {},
   "outputs": [],
   "source": [
    "#param_grid = {'n_estimators': [25,50,75,100], \n",
    "#                  'max_depth': [10,15,20,30]}\n",
    "# Create a based model\n",
    "#rf = RandomForestRegressor()\n",
    "# Instantiate the grid search model\n",
    "#a = GridSearchCV(estimator = rf, param_grid = param_grid, cv = 10, n_jobs = -1, verbose = 2)"
   ]
  },
  {
   "cell_type": "markdown",
   "metadata": {},
   "source": [
    "# ----------------------------------------------------------------------------------------"
   ]
  },
  {
   "cell_type": "code",
   "execution_count": 62,
   "metadata": {},
   "outputs": [],
   "source": [
    "# Create the parameter grid based on the results of random search \n",
    "param_grid = {\n",
    "    'bootstrap': [True],\n",
    "    'max_depth': [ 90, 100, 110],\n",
    "    'max_features': [2, 3],\n",
    "    'min_samples_leaf': [3, 4, 5],\n",
    "    'min_samples_split': [8, 10, 12],\n",
    "    'n_estimators': [100, 200, 300]\n",
    "}\n",
    "# Create a based model\n",
    "rf = RandomForestRegressor()\n",
    "# Instantiate the grid search model\n",
    "grid_search = GridSearchCV(estimator = rf, param_grid = param_grid, \n",
    "                          cv = 3, n_jobs = -1, verbose = 2)"
   ]
  },
  {
   "cell_type": "code",
   "execution_count": 63,
   "metadata": {},
   "outputs": [
    {
     "name": "stdout",
     "output_type": "stream",
     "text": [
      "Fitting 3 folds for each of 162 candidates, totalling 486 fits\n"
     ]
    },
    {
     "name": "stderr",
     "output_type": "stream",
     "text": [
      "[Parallel(n_jobs=-1)]: Using backend LokyBackend with 4 concurrent workers.\n",
      "[Parallel(n_jobs=-1)]: Done  33 tasks      | elapsed:   55.4s\n",
      "[Parallel(n_jobs=-1)]: Done 154 tasks      | elapsed:  4.4min\n",
      "[Parallel(n_jobs=-1)]: Done 357 tasks      | elapsed: 11.0min\n",
      "[Parallel(n_jobs=-1)]: Done 486 out of 486 | elapsed: 15.2min finished\n"
     ]
    },
    {
     "data": {
      "text/plain": [
       "GridSearchCV(cv=3, error_score=nan,\n",
       "             estimator=RandomForestRegressor(bootstrap=True, ccp_alpha=0.0,\n",
       "                                             criterion='mse', max_depth=None,\n",
       "                                             max_features='auto',\n",
       "                                             max_leaf_nodes=None,\n",
       "                                             max_samples=None,\n",
       "                                             min_impurity_decrease=0.0,\n",
       "                                             min_impurity_split=None,\n",
       "                                             min_samples_leaf=1,\n",
       "                                             min_samples_split=2,\n",
       "                                             min_weight_fraction_leaf=0.0,\n",
       "                                             n_estimators=100, n_jobs=None,\n",
       "                                             oob_score=False, random_state=None,\n",
       "                                             verbose=0, warm_start=False),\n",
       "             iid='deprecated', n_jobs=-1,\n",
       "             param_grid={'bootstrap': [True], 'max_depth': [90, 100, 110],\n",
       "                         'max_features': [2, 3], 'min_samples_leaf': [3, 4, 5],\n",
       "                         'min_samples_split': [8, 10, 12],\n",
       "                         'n_estimators': [100, 200, 300]},\n",
       "             pre_dispatch='2*n_jobs', refit=True, return_train_score=False,\n",
       "             scoring=None, verbose=2)"
      ]
     },
     "execution_count": 63,
     "metadata": {},
     "output_type": "execute_result"
    }
   ],
   "source": [
    "grid_search.fit(X_train,y_train)"
   ]
  },
  {
   "cell_type": "code",
   "execution_count": 64,
   "metadata": {},
   "outputs": [],
   "source": [
    "y_pred = grid_search.predict(X_test)\n"
   ]
  },
  {
   "cell_type": "code",
   "execution_count": 65,
   "metadata": {},
   "outputs": [
    {
     "data": {
      "text/plain": [
       "579.6535113061657"
      ]
     },
     "execution_count": 65,
     "metadata": {},
     "output_type": "execute_result"
    }
   ],
   "source": [
    "math.sqrt(mean_squared_error(y_true = y_test, y_pred = y_pred))"
   ]
  },
  {
   "cell_type": "code",
   "execution_count": 66,
   "metadata": {},
   "outputs": [],
   "source": [
    "y_pred3 = grid_search.predict(X[:8069])\n"
   ]
  },
  {
   "cell_type": "code",
   "execution_count": 67,
   "metadata": {},
   "outputs": [
    {
     "data": {
      "text/plain": [
       "5520.644547513266"
      ]
     },
     "execution_count": 67,
     "metadata": {},
     "output_type": "execute_result"
    }
   ],
   "source": [
    "math.sqrt(mean_squared_error(y_true = y_test, y_pred = y_pred3))"
   ]
  },
  {
   "cell_type": "code",
   "execution_count": 68,
   "metadata": {},
   "outputs": [],
   "source": [
    "y_pred2 = grid_search.predict(test)\n"
   ]
  },
  {
   "cell_type": "markdown",
   "metadata": {},
   "source": [
    "# -------------------------------------------------------------------------------------------"
   ]
  },
  {
   "cell_type": "code",
   "execution_count": 69,
   "metadata": {},
   "outputs": [],
   "source": [
    "RF = RandomForestRegressor(n_estimators=50, max_depth=16, random_state=55, n_jobs=-1)\n"
   ]
  },
  {
   "cell_type": "code",
   "execution_count": 70,
   "metadata": {},
   "outputs": [
    {
     "data": {
      "text/plain": [
       "RandomForestRegressor(bootstrap=True, ccp_alpha=0.0, criterion='mse',\n",
       "                      max_depth=16, max_features='auto', max_leaf_nodes=None,\n",
       "                      max_samples=None, min_impurity_decrease=0.0,\n",
       "                      min_impurity_split=None, min_samples_leaf=1,\n",
       "                      min_samples_split=2, min_weight_fraction_leaf=0.0,\n",
       "                      n_estimators=50, n_jobs=-1, oob_score=False,\n",
       "                      random_state=55, verbose=0, warm_start=False)"
      ]
     },
     "execution_count": 70,
     "metadata": {},
     "output_type": "execute_result"
    }
   ],
   "source": [
    "RF.fit(X_train,y_train)"
   ]
  },
  {
   "cell_type": "code",
   "execution_count": 71,
   "metadata": {},
   "outputs": [],
   "source": [
    "y_pred4 = RF.predict(X_test)\n"
   ]
  },
  {
   "cell_type": "code",
   "execution_count": 72,
   "metadata": {},
   "outputs": [
    {
     "data": {
      "text/plain": [
       "5520.644547513266"
      ]
     },
     "execution_count": 72,
     "metadata": {},
     "output_type": "execute_result"
    }
   ],
   "source": [
    "math.sqrt(mean_squared_error(y_true = y_test, y_pred = y_pred4))"
   ]
  },
  {
   "cell_type": "code",
   "execution_count": 73,
   "metadata": {},
   "outputs": [],
   "source": [
    "y_pred5 = RF.predict(X[:8069])\n"
   ]
  },
  {
   "cell_type": "code",
   "execution_count": 74,
   "metadata": {},
   "outputs": [
    {
     "data": {
      "text/plain": [
       "5543.95499959326"
      ]
     },
     "execution_count": 74,
     "metadata": {},
     "output_type": "execute_result"
    }
   ],
   "source": [
    "math.sqrt(mean_squared_error(y_true = y_test, y_pred = y_pred5))"
   ]
  },
  {
   "cell_type": "code",
   "execution_count": 75,
   "metadata": {},
   "outputs": [],
   "source": [
    "y_pred6 = RF.predict(test)\n"
   ]
  },
  {
   "cell_type": "markdown",
   "metadata": {},
   "source": [
    "# -------------------------------------------------------------------------------------------"
   ]
  },
  {
   "cell_type": "code",
   "execution_count": 76,
   "metadata": {},
   "outputs": [],
   "source": [
    "from sklearn.tree import DecisionTreeRegressor\n",
    "regressor = DecisionTreeRegressor(random_state = 0)"
   ]
  },
  {
   "cell_type": "code",
   "execution_count": 77,
   "metadata": {},
   "outputs": [
    {
     "data": {
      "text/plain": [
       "DecisionTreeRegressor(ccp_alpha=0.0, criterion='mse', max_depth=None,\n",
       "                      max_features=None, max_leaf_nodes=None,\n",
       "                      min_impurity_decrease=0.0, min_impurity_split=None,\n",
       "                      min_samples_leaf=1, min_samples_split=2,\n",
       "                      min_weight_fraction_leaf=0.0, presort='deprecated',\n",
       "                      random_state=0, splitter='best')"
      ]
     },
     "execution_count": 77,
     "metadata": {},
     "output_type": "execute_result"
    }
   ],
   "source": [
    "regressor.fit(X_train, y_train)"
   ]
  },
  {
   "cell_type": "code",
   "execution_count": 78,
   "metadata": {},
   "outputs": [],
   "source": [
    "y_pred7 = regressor.predict(X_test)"
   ]
  },
  {
   "cell_type": "code",
   "execution_count": 79,
   "metadata": {},
   "outputs": [
    {
     "data": {
      "text/plain": [
       "717.6380342780408"
      ]
     },
     "execution_count": 79,
     "metadata": {},
     "output_type": "execute_result"
    }
   ],
   "source": [
    "math.sqrt(mean_squared_error(y_true = y_test, y_pred = y_pred7))"
   ]
  },
  {
   "cell_type": "code",
   "execution_count": 80,
   "metadata": {},
   "outputs": [],
   "source": [
    "y_pred8= regressor.predict(X[:8069])\n"
   ]
  },
  {
   "cell_type": "code",
   "execution_count": 81,
   "metadata": {},
   "outputs": [
    {
     "data": {
      "text/plain": [
       "5580.392664222578"
      ]
     },
     "execution_count": 81,
     "metadata": {},
     "output_type": "execute_result"
    }
   ],
   "source": [
    "math.sqrt(mean_squared_error(y_true = y_test, y_pred = y_pred8))"
   ]
  },
  {
   "cell_type": "code",
   "execution_count": 82,
   "metadata": {},
   "outputs": [],
   "source": [
    "y_pred9= regressor.predict(test)\n"
   ]
  },
  {
   "cell_type": "markdown",
   "metadata": {},
   "source": [
    "# HistGradientBoostingRegressor"
   ]
  },
  {
   "cell_type": "code",
   "execution_count": 83,
   "metadata": {},
   "outputs": [],
   "source": [
    "model=GradientBoostingRegressor(n_estimators=250,max_depth=30, min_samples_split=2)"
   ]
  },
  {
   "cell_type": "code",
   "execution_count": 84,
   "metadata": {},
   "outputs": [
    {
     "data": {
      "text/plain": [
       "GradientBoostingRegressor(alpha=0.9, ccp_alpha=0.0, criterion='friedman_mse',\n",
       "                          init=None, learning_rate=0.1, loss='ls', max_depth=30,\n",
       "                          max_features=None, max_leaf_nodes=None,\n",
       "                          min_impurity_decrease=0.0, min_impurity_split=None,\n",
       "                          min_samples_leaf=1, min_samples_split=2,\n",
       "                          min_weight_fraction_leaf=0.0, n_estimators=250,\n",
       "                          n_iter_no_change=None, presort='deprecated',\n",
       "                          random_state=None, subsample=1.0, tol=0.0001,\n",
       "                          validation_fraction=0.1, verbose=0, warm_start=False)"
      ]
     },
     "execution_count": 84,
     "metadata": {},
     "output_type": "execute_result"
    }
   ],
   "source": [
    "model.fit(X_train,y_train)"
   ]
  },
  {
   "cell_type": "code",
   "execution_count": 85,
   "metadata": {},
   "outputs": [],
   "source": [
    "y_pred10 = model.predict(X_test)"
   ]
  },
  {
   "cell_type": "code",
   "execution_count": 86,
   "metadata": {},
   "outputs": [
    {
     "data": {
      "text/plain": [
       "705.1606020848911"
      ]
     },
     "execution_count": 86,
     "metadata": {},
     "output_type": "execute_result"
    }
   ],
   "source": [
    "math.sqrt(mean_squared_error(y_true = y_test, y_pred = y_pred10))"
   ]
  },
  {
   "cell_type": "code",
   "execution_count": 87,
   "metadata": {},
   "outputs": [],
   "source": [
    "y_pred11= model.predict(X[:8069])"
   ]
  },
  {
   "cell_type": "code",
   "execution_count": 88,
   "metadata": {},
   "outputs": [
    {
     "data": {
      "text/plain": [
       "5579.681831370333"
      ]
     },
     "execution_count": 88,
     "metadata": {},
     "output_type": "execute_result"
    }
   ],
   "source": [
    "math.sqrt(mean_squared_error(y_true = y_test, y_pred = y_pred11))"
   ]
  },
  {
   "cell_type": "code",
   "execution_count": 89,
   "metadata": {},
   "outputs": [],
   "source": [
    "y_pred12 = model.predict(test)"
   ]
  },
  {
   "cell_type": "markdown",
   "metadata": {},
   "source": [
    "# ----------------------------------------------------------------------------------------"
   ]
  },
  {
   "cell_type": "code",
   "execution_count": 90,
   "metadata": {},
   "outputs": [],
   "source": [
    "RF = RandomForestRegressor(random_state=55, n_jobs=-1)\n"
   ]
  },
  {
   "cell_type": "code",
   "execution_count": 91,
   "metadata": {},
   "outputs": [],
   "source": [
    "parameter_grid = {'n_estimators': [25,50,75,100], \n",
    "                  'max_depth': [10,15,20,30],}"
   ]
  },
  {
   "cell_type": "code",
   "execution_count": 92,
   "metadata": {},
   "outputs": [
    {
     "name": "stdout",
     "output_type": "stream",
     "text": [
      "Fitting 5 folds for each of 16 candidates, totalling 80 fits\n"
     ]
    },
    {
     "name": "stderr",
     "output_type": "stream",
     "text": [
      "[Parallel(n_jobs=-1)]: Using backend LokyBackend with 4 concurrent workers.\n",
      "[Parallel(n_jobs=-1)]: Done  33 tasks      | elapsed:   32.0s\n",
      "[Parallel(n_jobs=-1)]: Done  80 out of  80 | elapsed:  1.8min finished\n"
     ]
    },
    {
     "data": {
      "text/plain": [
       "GridSearchCV(cv=5, error_score=nan,\n",
       "             estimator=RandomForestRegressor(bootstrap=True, ccp_alpha=0.0,\n",
       "                                             criterion='mse', max_depth=None,\n",
       "                                             max_features='auto',\n",
       "                                             max_leaf_nodes=None,\n",
       "                                             max_samples=None,\n",
       "                                             min_impurity_decrease=0.0,\n",
       "                                             min_impurity_split=None,\n",
       "                                             min_samples_leaf=1,\n",
       "                                             min_samples_split=2,\n",
       "                                             min_weight_fraction_leaf=0.0,\n",
       "                                             n_estimators=100, n_jobs=-1,\n",
       "                                             oob_score=False, random_state=55,\n",
       "                                             verbose=0, warm_start=False),\n",
       "             iid='deprecated', n_jobs=-1,\n",
       "             param_grid={'max_depth': [10, 15, 20, 30],\n",
       "                         'n_estimators': [25, 50, 75, 100]},\n",
       "             pre_dispatch='2*n_jobs', refit=True, return_train_score=False,\n",
       "             scoring=None, verbose=2)"
      ]
     },
     "execution_count": 92,
     "metadata": {},
     "output_type": "execute_result"
    }
   ],
   "source": [
    "RF_classifier = GridSearchCV(estimator=RF, param_grid=parameter_grid, refit=True, cv=5, n_jobs=-1,verbose=2)\n",
    "\n",
    "RF_classifier.fit(X_train, y_train)"
   ]
  },
  {
   "cell_type": "code",
   "execution_count": 93,
   "metadata": {},
   "outputs": [],
   "source": [
    "y_pred13= RF_classifier.predict(X_test)"
   ]
  },
  {
   "cell_type": "code",
   "execution_count": 94,
   "metadata": {},
   "outputs": [
    {
     "data": {
      "text/plain": [
       "569.291036824956"
      ]
     },
     "execution_count": 94,
     "metadata": {},
     "output_type": "execute_result"
    }
   ],
   "source": [
    "math.sqrt(mean_squared_error(y_true = y_test, y_pred = y_pred13))"
   ]
  },
  {
   "cell_type": "code",
   "execution_count": 95,
   "metadata": {},
   "outputs": [],
   "source": [
    "y_pred14 = RF_classifier.predict(X[:8069])"
   ]
  },
  {
   "cell_type": "code",
   "execution_count": 96,
   "metadata": {},
   "outputs": [
    {
     "data": {
      "text/plain": [
       "5544.128620631554"
      ]
     },
     "execution_count": 96,
     "metadata": {},
     "output_type": "execute_result"
    }
   ],
   "source": [
    "math.sqrt(mean_squared_error(y_true = y_test, y_pred = y_pred14))"
   ]
  },
  {
   "cell_type": "code",
   "execution_count": 97,
   "metadata": {},
   "outputs": [],
   "source": [
    "y_pred15 = RF_classifier.predict(test)"
   ]
  },
  {
   "cell_type": "markdown",
   "metadata": {},
   "source": [
    "# -------------------------------------------------------------------------------------------"
   ]
  },
  {
   "cell_type": "code",
   "execution_count": 98,
   "metadata": {},
   "outputs": [],
   "source": [
    "params = { 'min_samples_leaf': [50, 100,150,200]}\n",
    "tuning_gradient = GridSearchCV(estimator=HistGradientBoostingRegressor(max_depth=4, min_samples_leaf=1, random_state=10), \n",
    "            param_grid=params,n_jobs=4,iid=False, cv=5,verbose=2)"
   ]
  },
  {
   "cell_type": "code",
   "execution_count": 99,
   "metadata": {},
   "outputs": [
    {
     "name": "stdout",
     "output_type": "stream",
     "text": [
      "Fitting 5 folds for each of 4 candidates, totalling 20 fits\n"
     ]
    },
    {
     "name": "stderr",
     "output_type": "stream",
     "text": [
      "[Parallel(n_jobs=4)]: Using backend LokyBackend with 4 concurrent workers.\n",
      "[Parallel(n_jobs=4)]: Done  20 out of  20 | elapsed:    3.0s finished\n",
      "/opt/anaconda3/lib/python3.7/site-packages/sklearn/model_selection/_search.py:823: FutureWarning: The parameter 'iid' is deprecated in 0.22 and will be removed in 0.24.\n",
      "  \"removed in 0.24.\", FutureWarning\n"
     ]
    },
    {
     "data": {
      "text/plain": [
       "GridSearchCV(cv=5, error_score=nan,\n",
       "             estimator=HistGradientBoostingRegressor(l2_regularization=0.0,\n",
       "                                                     learning_rate=0.1,\n",
       "                                                     loss='least_squares',\n",
       "                                                     max_bins=255, max_depth=4,\n",
       "                                                     max_iter=100,\n",
       "                                                     max_leaf_nodes=31,\n",
       "                                                     min_samples_leaf=1,\n",
       "                                                     n_iter_no_change=None,\n",
       "                                                     random_state=10,\n",
       "                                                     scoring=None, tol=1e-07,\n",
       "                                                     validation_fraction=0.1,\n",
       "                                                     verbose=0,\n",
       "                                                     warm_start=False),\n",
       "             iid=False, n_jobs=4,\n",
       "             param_grid={'min_samples_leaf': [50, 100, 150, 200]},\n",
       "             pre_dispatch='2*n_jobs', refit=True, return_train_score=False,\n",
       "             scoring=None, verbose=2)"
      ]
     },
     "execution_count": 99,
     "metadata": {},
     "output_type": "execute_result"
    }
   ],
   "source": [
    "tuning_gradient.fit(X_train,y_train)"
   ]
  },
  {
   "cell_type": "code",
   "execution_count": 100,
   "metadata": {},
   "outputs": [],
   "source": [
    "y_pred16 = tuning_gradient.predict(X_test)"
   ]
  },
  {
   "cell_type": "code",
   "execution_count": 101,
   "metadata": {},
   "outputs": [
    {
     "data": {
      "text/plain": [
       "601.4261989223614"
      ]
     },
     "execution_count": 101,
     "metadata": {},
     "output_type": "execute_result"
    }
   ],
   "source": [
    "math.sqrt(mean_squared_error(y_true = y_test, y_pred = y_pred16))"
   ]
  },
  {
   "cell_type": "code",
   "execution_count": 102,
   "metadata": {},
   "outputs": [],
   "source": [
    "y_pred17 = tuning_gradient.predict(X[:8069])"
   ]
  },
  {
   "cell_type": "code",
   "execution_count": 103,
   "metadata": {},
   "outputs": [
    {
     "data": {
      "text/plain": [
       "5520.77269069957"
      ]
     },
     "execution_count": 103,
     "metadata": {},
     "output_type": "execute_result"
    }
   ],
   "source": [
    "math.sqrt(mean_squared_error(y_true = y_test, y_pred = y_pred17))"
   ]
  },
  {
   "cell_type": "code",
   "execution_count": 104,
   "metadata": {},
   "outputs": [],
   "source": [
    "y_pred18 = tuning_gradient.predict(test)"
   ]
  },
  {
   "cell_type": "markdown",
   "metadata": {},
   "source": [
    "# -------------------------------------------------------------------------------------------"
   ]
  },
  {
   "cell_type": "code",
   "execution_count": 106,
   "metadata": {},
   "outputs": [],
   "source": [
    "regr=RandomForestRegressor()"
   ]
  },
  {
   "cell_type": "code",
   "execution_count": 107,
   "metadata": {},
   "outputs": [
    {
     "name": "stdout",
     "output_type": "stream",
     "text": [
      "Fitting 3 folds for each of 12 candidates, totalling 36 fits\n"
     ]
    },
    {
     "name": "stderr",
     "output_type": "stream",
     "text": [
      "[Parallel(n_jobs=-1)]: Using backend LokyBackend with 4 concurrent workers.\n",
      "[Parallel(n_jobs=-1)]: Done  36 out of  36 | elapsed: 16.2min finished\n"
     ]
    },
    {
     "data": {
      "text/plain": [
       "{'max_depth': 80, 'n_estimators': 1100}"
      ]
     },
     "execution_count": 107,
     "metadata": {},
     "output_type": "execute_result"
    }
   ],
   "source": [
    "# Find the best parameters for the model\n",
    "parameters = {\n",
    "    'max_depth': [70, 80, 90, 100],\n",
    "    'n_estimators': [900, 1000, 1100]\n",
    "}\n",
    "gridforest = GridSearchCV(regr, parameters, cv = 3, n_jobs = -1, verbose = 2)\n",
    "gridforest.fit(X_train, y_train)\n",
    "gridforest.best_params_"
   ]
  },
  {
   "cell_type": "code",
   "execution_count": 110,
   "metadata": {},
   "outputs": [],
   "source": [
    "y_pred19 = gridforest.predict(X_test)"
   ]
  },
  {
   "cell_type": "code",
   "execution_count": 111,
   "metadata": {},
   "outputs": [
    {
     "data": {
      "text/plain": [
       "576.4155188924135"
      ]
     },
     "execution_count": 111,
     "metadata": {},
     "output_type": "execute_result"
    }
   ],
   "source": [
    "math.sqrt(mean_squared_error(y_true = y_test, y_pred = y_pred19))"
   ]
  },
  {
   "cell_type": "code",
   "execution_count": 112,
   "metadata": {},
   "outputs": [],
   "source": [
    "y_pred20 = gridforest.predict(X[:8069])"
   ]
  },
  {
   "cell_type": "code",
   "execution_count": 113,
   "metadata": {},
   "outputs": [
    {
     "data": {
      "text/plain": [
       "5548.273023259278"
      ]
     },
     "execution_count": 113,
     "metadata": {},
     "output_type": "execute_result"
    }
   ],
   "source": [
    "math.sqrt(mean_squared_error(y_true = y_test, y_pred = y_pred20))"
   ]
  },
  {
   "cell_type": "code",
   "execution_count": 114,
   "metadata": {},
   "outputs": [],
   "source": [
    "y_pred21 = gridforest.predict(test)"
   ]
  },
  {
   "cell_type": "markdown",
   "metadata": {},
   "source": [
    "# -------------------------------------------------------------------------------------------"
   ]
  },
  {
   "cell_type": "code",
   "execution_count": 153,
   "metadata": {},
   "outputs": [],
   "source": [
    "param_grid = param_grid={'n_estimators':[100], 'learning_rate': [0.1, 0.05, 0.02, 0.01],\n",
    "            'max_depth':[6,4,6], 'min_samples_leaf':[3,5,9,17], 'max_features':[1.0,0.3,0.1] } \n",
    "\n",
    "\n",
    "# Create a based model\n",
    "gbr = GradientBoostingRegressor()\n",
    "# Instantiate the grid search model\n",
    "grid_search = GridSearchCV(estimator = gbr, param_grid = param_grid, \n",
    "                          cv = 3, n_jobs = 4, verbose = 2)"
   ]
  },
  {
   "cell_type": "code",
   "execution_count": 154,
   "metadata": {},
   "outputs": [
    {
     "name": "stdout",
     "output_type": "stream",
     "text": [
      "Fitting 3 folds for each of 144 candidates, totalling 432 fits\n"
     ]
    },
    {
     "name": "stderr",
     "output_type": "stream",
     "text": [
      "[Parallel(n_jobs=4)]: Using backend LokyBackend with 4 concurrent workers.\n",
      "[Parallel(n_jobs=4)]: Done  33 tasks      | elapsed:   32.7s\n",
      "[Parallel(n_jobs=4)]: Done 154 tasks      | elapsed:  2.2min\n",
      "[Parallel(n_jobs=4)]: Done 357 tasks      | elapsed:  4.4min\n",
      "[Parallel(n_jobs=4)]: Done 432 out of 432 | elapsed:  5.2min finished\n"
     ]
    },
    {
     "data": {
      "text/plain": [
       "GridSearchCV(cv=3, error_score=nan,\n",
       "             estimator=GradientBoostingRegressor(alpha=0.9, ccp_alpha=0.0,\n",
       "                                                 criterion='friedman_mse',\n",
       "                                                 init=None, learning_rate=0.1,\n",
       "                                                 loss='ls', max_depth=3,\n",
       "                                                 max_features=None,\n",
       "                                                 max_leaf_nodes=None,\n",
       "                                                 min_impurity_decrease=0.0,\n",
       "                                                 min_impurity_split=None,\n",
       "                                                 min_samples_leaf=1,\n",
       "                                                 min_samples_split=2,\n",
       "                                                 min_weight_fraction_leaf=0.0,\n",
       "                                                 n_estimators=100,\n",
       "                                                 n_iter_n...\n",
       "                                                 random_state=None,\n",
       "                                                 subsample=1.0, tol=0.0001,\n",
       "                                                 validation_fraction=0.1,\n",
       "                                                 verbose=0, warm_start=False),\n",
       "             iid='deprecated', n_jobs=4,\n",
       "             param_grid={'learning_rate': [0.1, 0.05, 0.02, 0.01],\n",
       "                         'max_depth': [6, 4, 6],\n",
       "                         'max_features': [1.0, 0.3, 0.1],\n",
       "                         'min_samples_leaf': [3, 5, 9, 17],\n",
       "                         'n_estimators': [100]},\n",
       "             pre_dispatch='2*n_jobs', refit=True, return_train_score=False,\n",
       "             scoring=None, verbose=2)"
      ]
     },
     "execution_count": 154,
     "metadata": {},
     "output_type": "execute_result"
    }
   ],
   "source": [
    "grid_search.fit(X_train,y_train)"
   ]
  },
  {
   "cell_type": "code",
   "execution_count": 155,
   "metadata": {},
   "outputs": [],
   "source": [
    "y_pred22 = grid_search.predict(X_test)"
   ]
  },
  {
   "cell_type": "code",
   "execution_count": 156,
   "metadata": {},
   "outputs": [
    {
     "data": {
      "text/plain": [
       "545.788066654996"
      ]
     },
     "execution_count": 156,
     "metadata": {},
     "output_type": "execute_result"
    }
   ],
   "source": [
    "math.sqrt(mean_squared_error(y_true = y_test, y_pred = y_pred22))"
   ]
  },
  {
   "cell_type": "code",
   "execution_count": 157,
   "metadata": {},
   "outputs": [],
   "source": [
    "y_pred23 = grid_search.predict(X[:8069])"
   ]
  },
  {
   "cell_type": "code",
   "execution_count": 158,
   "metadata": {},
   "outputs": [
    {
     "data": {
      "text/plain": [
       "array([6472.14285235,  595.94429817, 1100.70752804, ...,  619.37403492,\n",
       "       9679.67901432, 1408.28182649])"
      ]
     },
     "execution_count": 158,
     "metadata": {},
     "output_type": "execute_result"
    }
   ],
   "source": [
    "y_pred23"
   ]
  },
  {
   "cell_type": "code",
   "execution_count": 159,
   "metadata": {},
   "outputs": [
    {
     "data": {
      "text/plain": [
       "5535.187078860643"
      ]
     },
     "execution_count": 159,
     "metadata": {},
     "output_type": "execute_result"
    }
   ],
   "source": [
    "math.sqrt(mean_squared_error(y_true = y_test, y_pred = y_pred23))"
   ]
  },
  {
   "cell_type": "code",
   "execution_count": 160,
   "metadata": {},
   "outputs": [],
   "source": [
    "y_pred24 = grid_search.predict(test)"
   ]
  },
  {
   "cell_type": "markdown",
   "metadata": {},
   "source": [
    "# AdaBoostRegressor"
   ]
  },
  {
   "cell_type": "code",
   "execution_count": 122,
   "metadata": {},
   "outputs": [],
   "source": [
    "model=AdaBoostRegressor(base_estimator=None, n_estimators=50, learning_rate=1.0, loss='linear', random_state=50)"
   ]
  },
  {
   "cell_type": "code",
   "execution_count": 123,
   "metadata": {},
   "outputs": [
    {
     "data": {
      "text/plain": [
       "AdaBoostRegressor(base_estimator=None, learning_rate=1.0, loss='linear',\n",
       "                  n_estimators=50, random_state=50)"
      ]
     },
     "execution_count": 123,
     "metadata": {},
     "output_type": "execute_result"
    }
   ],
   "source": [
    "model.fit(X_train,y_train)"
   ]
  },
  {
   "cell_type": "code",
   "execution_count": 124,
   "metadata": {},
   "outputs": [],
   "source": [
    "y_pred25 = model.predict(X_test)"
   ]
  },
  {
   "cell_type": "code",
   "execution_count": 125,
   "metadata": {},
   "outputs": [
    {
     "data": {
      "text/plain": [
       "1201.952105369789"
      ]
     },
     "execution_count": 125,
     "metadata": {},
     "output_type": "execute_result"
    }
   ],
   "source": [
    "math.sqrt(mean_squared_error(y_true = y_test, y_pred = y_pred25))"
   ]
  },
  {
   "cell_type": "code",
   "execution_count": 126,
   "metadata": {},
   "outputs": [],
   "source": [
    "y_pred26= model.predict(test)"
   ]
  },
  {
   "cell_type": "code",
   "execution_count": 127,
   "metadata": {},
   "outputs": [],
   "source": [
    "y_pred27 = grid_search.predict(X[:8069])"
   ]
  },
  {
   "cell_type": "code",
   "execution_count": 128,
   "metadata": {},
   "outputs": [
    {
     "data": {
      "text/plain": [
       "5535.187078860643"
      ]
     },
     "execution_count": 128,
     "metadata": {},
     "output_type": "execute_result"
    }
   ],
   "source": [
    "math.sqrt(mean_squared_error(y_true = y_test, y_pred = y_pred27))"
   ]
  },
  {
   "cell_type": "markdown",
   "metadata": {},
   "source": [
    "# ----------------------------------------------------------------------------------------"
   ]
  },
  {
   "cell_type": "code",
   "execution_count": 129,
   "metadata": {},
   "outputs": [],
   "source": [
    "params = {'learning_rate':[0.15,0.1,0.05], \n",
    "           'n_estimators':[1500,1750]}\n",
    "\n",
    "\n",
    "tuning_gradient =GridSearchCV(estimator=AdaBoostRegressor( random_state=10), \n",
    "            param_grid=params,n_jobs=4,iid=False, cv=5,verbose=2)"
   ]
  },
  {
   "cell_type": "code",
   "execution_count": 130,
   "metadata": {},
   "outputs": [
    {
     "name": "stdout",
     "output_type": "stream",
     "text": [
      "Fitting 5 folds for each of 6 candidates, totalling 30 fits\n"
     ]
    },
    {
     "name": "stderr",
     "output_type": "stream",
     "text": [
      "[Parallel(n_jobs=4)]: Using backend LokyBackend with 4 concurrent workers.\n",
      "/opt/anaconda3/lib/python3.7/site-packages/joblib/externals/loky/process_executor.py:706: UserWarning: A worker stopped while some jobs were given to the executor. This can be caused by a too short worker timeout or by a memory leak.\n",
      "  \"timeout or by a memory leak.\", UserWarning\n",
      "[Parallel(n_jobs=4)]: Done  30 out of  30 | elapsed:  3.2min finished\n",
      "/opt/anaconda3/lib/python3.7/site-packages/sklearn/model_selection/_search.py:823: FutureWarning: The parameter 'iid' is deprecated in 0.22 and will be removed in 0.24.\n",
      "  \"removed in 0.24.\", FutureWarning\n"
     ]
    },
    {
     "data": {
      "text/plain": [
       "GridSearchCV(cv=5, error_score=nan,\n",
       "             estimator=AdaBoostRegressor(base_estimator=None, learning_rate=1.0,\n",
       "                                         loss='linear', n_estimators=50,\n",
       "                                         random_state=10),\n",
       "             iid=False, n_jobs=4,\n",
       "             param_grid={'learning_rate': [0.15, 0.1, 0.05],\n",
       "                         'n_estimators': [1500, 1750]},\n",
       "             pre_dispatch='2*n_jobs', refit=True, return_train_score=False,\n",
       "             scoring=None, verbose=2)"
      ]
     },
     "execution_count": 130,
     "metadata": {},
     "output_type": "execute_result"
    }
   ],
   "source": [
    "tuning_gradient.fit(X_train,y_train)"
   ]
  },
  {
   "cell_type": "code",
   "execution_count": 131,
   "metadata": {},
   "outputs": [
    {
     "name": "stderr",
     "output_type": "stream",
     "text": [
      "/opt/anaconda3/lib/python3.7/site-packages/sklearn/base.py:197: FutureWarning: From version 0.24, get_params will raise an AttributeError if a parameter cannot be retrieved as an instance attribute. Previously it would return None.\n",
      "  FutureWarning)\n"
     ]
    },
    {
     "data": {
      "text/plain": [
       "dict_keys(['base_estimator', 'learning_rate', 'loss', 'n_estimators', 'random_state'])"
      ]
     },
     "execution_count": 131,
     "metadata": {},
     "output_type": "execute_result"
    }
   ],
   "source": [
    "AdaBoostRegressor.get_params(AdaBoostRegressor).keys()"
   ]
  },
  {
   "cell_type": "code",
   "execution_count": 132,
   "metadata": {},
   "outputs": [],
   "source": [
    "y_pred28 = tuning_gradient.predict(X_test)"
   ]
  },
  {
   "cell_type": "code",
   "execution_count": 133,
   "metadata": {},
   "outputs": [
    {
     "data": {
      "text/plain": [
       "1159.4516417661416"
      ]
     },
     "execution_count": 133,
     "metadata": {},
     "output_type": "execute_result"
    }
   ],
   "source": [
    "math.sqrt(mean_squared_error(y_true = y_test, y_pred = y_pred28))"
   ]
  },
  {
   "cell_type": "code",
   "execution_count": 134,
   "metadata": {},
   "outputs": [],
   "source": [
    "y_pred29 = model.predict(test)"
   ]
  },
  {
   "cell_type": "code",
   "execution_count": 135,
   "metadata": {},
   "outputs": [],
   "source": [
    "y_pred30 = model.predict(X[:8069])"
   ]
  },
  {
   "cell_type": "code",
   "execution_count": 136,
   "metadata": {},
   "outputs": [
    {
     "data": {
      "text/plain": [
       "5404.688104605375"
      ]
     },
     "execution_count": 136,
     "metadata": {},
     "output_type": "execute_result"
    }
   ],
   "source": [
    "math.sqrt(mean_squared_error(y_true = y_test, y_pred = y_pred30))"
   ]
  },
  {
   "cell_type": "markdown",
   "metadata": {},
   "source": [
    "# DECISION TREE REGRESSION"
   ]
  },
  {
   "cell_type": "code",
   "execution_count": 137,
   "metadata": {},
   "outputs": [
    {
     "name": "stdout",
     "output_type": "stream",
     "text": [
      "rmse: 601.426199\n"
     ]
    }
   ],
   "source": [
    "from sklearn.tree import DecisionTreeRegressor\n",
    "regressor = DecisionTreeRegressor(random_state = 0)\n",
    "regressor.fit(X_train, y_train)\n",
    "y_pred31 = regressor.predict(X_test)\n",
    "rmse=np.sqrt(mean_squared_error(y_test,y_pred))\n",
    "print(\"rmse: %f\" %(rmse))"
   ]
  },
  {
   "cell_type": "code",
   "execution_count": 138,
   "metadata": {},
   "outputs": [],
   "source": [
    "y_pred32 = regressor.predict(X[:8069])"
   ]
  },
  {
   "cell_type": "code",
   "execution_count": 139,
   "metadata": {},
   "outputs": [],
   "source": [
    "rmse=np.sqrt(mean_squared_error(y_test,y_pred32))\n"
   ]
  },
  {
   "cell_type": "code",
   "execution_count": 140,
   "metadata": {},
   "outputs": [
    {
     "data": {
      "text/plain": [
       "5580.392664222578"
      ]
     },
     "execution_count": 140,
     "metadata": {},
     "output_type": "execute_result"
    }
   ],
   "source": [
    "rmse"
   ]
  },
  {
   "cell_type": "code",
   "execution_count": 141,
   "metadata": {},
   "outputs": [],
   "source": [
    "y_pred33 = regressor.predict(test)"
   ]
  },
  {
   "cell_type": "markdown",
   "metadata": {},
   "source": [
    "# -------------------------------------------------------------------------------------------"
   ]
  },
  {
   "cell_type": "code",
   "execution_count": 142,
   "metadata": {},
   "outputs": [
    {
     "name": "stdout",
     "output_type": "stream",
     "text": [
      "Fitting 5 folds for each of 49 candidates, totalling 245 fits\n",
      "[CV] max_depth=2, min_samples_split=2 ................................\n",
      "[CV] ................. max_depth=2, min_samples_split=2, total=   0.0s\n",
      "[CV] max_depth=2, min_samples_split=2 ................................\n",
      "[CV] ................. max_depth=2, min_samples_split=2, total=   0.0s\n",
      "[CV] max_depth=2, min_samples_split=2 ................................\n",
      "[CV] ................. max_depth=2, min_samples_split=2, total=   0.0s\n",
      "[CV] max_depth=2, min_samples_split=2 ................................\n",
      "[CV] ................. max_depth=2, min_samples_split=2, total=   0.0s\n",
      "[CV] max_depth=2, min_samples_split=2 ................................\n",
      "[CV] ................. max_depth=2, min_samples_split=2, total=   0.0s\n",
      "[CV] max_depth=2, min_samples_split=4 ................................\n",
      "[CV] ................. max_depth=2, min_samples_split=4, total=   0.0s\n",
      "[CV] max_depth=2, min_samples_split=4 ................................\n",
      "[CV] ................. max_depth=2, min_samples_split=4, total=   0.0s\n",
      "[CV] max_depth=2, min_samples_split=4 ................................\n",
      "[CV] ................. max_depth=2, min_samples_split=4, total=   0.0s\n",
      "[CV] max_depth=2, min_samples_split=4 ................................\n",
      "[CV] ................. max_depth=2, min_samples_split=4, total=   0.0s\n",
      "[CV] max_depth=2, min_samples_split=4 ................................\n",
      "[CV] ................. max_depth=2, min_samples_split=4, total=   0.0s\n",
      "[CV] max_depth=2, min_samples_split=6 ................................\n",
      "[CV] ................. max_depth=2, min_samples_split=6, total=   0.0s\n",
      "[CV] max_depth=2, min_samples_split=6 ................................\n",
      "[CV] ................. max_depth=2, min_samples_split=6, total=   0.0s\n",
      "[CV] max_depth=2, min_samples_split=6 ................................\n"
     ]
    },
    {
     "name": "stderr",
     "output_type": "stream",
     "text": [
      "[Parallel(n_jobs=1)]: Using backend SequentialBackend with 1 concurrent workers.\n",
      "[Parallel(n_jobs=1)]: Done   1 out of   1 | elapsed:    0.0s remaining:    0.0s\n"
     ]
    },
    {
     "name": "stdout",
     "output_type": "stream",
     "text": [
      "[CV] ................. max_depth=2, min_samples_split=6, total=   0.0s\n",
      "[CV] max_depth=2, min_samples_split=6 ................................\n",
      "[CV] ................. max_depth=2, min_samples_split=6, total=   0.0s\n",
      "[CV] max_depth=2, min_samples_split=6 ................................\n",
      "[CV] ................. max_depth=2, min_samples_split=6, total=   0.0s\n",
      "[CV] max_depth=2, min_samples_split=8 ................................\n",
      "[CV] ................. max_depth=2, min_samples_split=8, total=   0.0s\n",
      "[CV] max_depth=2, min_samples_split=8 ................................\n",
      "[CV] ................. max_depth=2, min_samples_split=8, total=   0.0s\n",
      "[CV] max_depth=2, min_samples_split=8 ................................\n",
      "[CV] ................. max_depth=2, min_samples_split=8, total=   0.0s\n",
      "[CV] max_depth=2, min_samples_split=8 ................................\n",
      "[CV] ................. max_depth=2, min_samples_split=8, total=   0.0s\n",
      "[CV] max_depth=2, min_samples_split=8 ................................\n",
      "[CV] ................. max_depth=2, min_samples_split=8, total=   0.0s\n",
      "[CV] max_depth=2, min_samples_split=10 ...............................\n",
      "[CV] ................ max_depth=2, min_samples_split=10, total=   0.0s\n",
      "[CV] max_depth=2, min_samples_split=10 ...............................\n",
      "[CV] ................ max_depth=2, min_samples_split=10, total=   0.0s\n",
      "[CV] max_depth=2, min_samples_split=10 ...............................\n",
      "[CV] ................ max_depth=2, min_samples_split=10, total=   0.0s\n",
      "[CV] max_depth=2, min_samples_split=10 ...............................\n",
      "[CV] ................ max_depth=2, min_samples_split=10, total=   0.0s\n",
      "[CV] max_depth=2, min_samples_split=10 ...............................\n",
      "[CV] ................ max_depth=2, min_samples_split=10, total=   0.0s\n",
      "[CV] max_depth=2, min_samples_split=12 ...............................\n",
      "[CV] ................ max_depth=2, min_samples_split=12, total=   0.0s\n",
      "[CV] max_depth=2, min_samples_split=12 ...............................\n",
      "[CV] ................ max_depth=2, min_samples_split=12, total=   0.0s\n",
      "[CV] max_depth=2, min_samples_split=12 ...............................\n",
      "[CV] ................ max_depth=2, min_samples_split=12, total=   0.0s\n",
      "[CV] max_depth=2, min_samples_split=12 ...............................\n",
      "[CV] ................ max_depth=2, min_samples_split=12, total=   0.0s\n",
      "[CV] max_depth=2, min_samples_split=12 ...............................\n",
      "[CV] ................ max_depth=2, min_samples_split=12, total=   0.0s\n",
      "[CV] max_depth=2, min_samples_split=14 ...............................\n",
      "[CV] ................ max_depth=2, min_samples_split=14, total=   0.0s\n",
      "[CV] max_depth=2, min_samples_split=14 ...............................\n",
      "[CV] ................ max_depth=2, min_samples_split=14, total=   0.0s\n",
      "[CV] max_depth=2, min_samples_split=14 ...............................\n",
      "[CV] ................ max_depth=2, min_samples_split=14, total=   0.0s\n",
      "[CV] max_depth=2, min_samples_split=14 ...............................\n",
      "[CV] ................ max_depth=2, min_samples_split=14, total=   0.0s\n",
      "[CV] max_depth=2, min_samples_split=14 ...............................\n",
      "[CV] ................ max_depth=2, min_samples_split=14, total=   0.0s\n",
      "[CV] max_depth=4, min_samples_split=2 ................................\n",
      "[CV] ................. max_depth=4, min_samples_split=2, total=   0.0s\n",
      "[CV] max_depth=4, min_samples_split=2 ................................\n",
      "[CV] ................. max_depth=4, min_samples_split=2, total=   0.0s\n",
      "[CV] max_depth=4, min_samples_split=2 ................................\n",
      "[CV] ................. max_depth=4, min_samples_split=2, total=   0.0s\n",
      "[CV] max_depth=4, min_samples_split=2 ................................\n",
      "[CV] ................. max_depth=4, min_samples_split=2, total=   0.0s\n",
      "[CV] max_depth=4, min_samples_split=2 ................................\n",
      "[CV] ................. max_depth=4, min_samples_split=2, total=   0.0s\n",
      "[CV] max_depth=4, min_samples_split=4 ................................\n",
      "[CV] ................. max_depth=4, min_samples_split=4, total=   0.0s\n",
      "[CV] max_depth=4, min_samples_split=4 ................................\n",
      "[CV] ................. max_depth=4, min_samples_split=4, total=   0.0s\n",
      "[CV] max_depth=4, min_samples_split=4 ................................\n",
      "[CV] ................. max_depth=4, min_samples_split=4, total=   0.0s\n",
      "[CV] max_depth=4, min_samples_split=4 ................................\n",
      "[CV] ................. max_depth=4, min_samples_split=4, total=   0.0s\n",
      "[CV] max_depth=4, min_samples_split=4 ................................\n",
      "[CV] ................. max_depth=4, min_samples_split=4, total=   0.0s\n",
      "[CV] max_depth=4, min_samples_split=6 ................................\n",
      "[CV] ................. max_depth=4, min_samples_split=6, total=   0.0s\n",
      "[CV] max_depth=4, min_samples_split=6 ................................\n",
      "[CV] ................. max_depth=4, min_samples_split=6, total=   0.0s\n",
      "[CV] max_depth=4, min_samples_split=6 ................................\n",
      "[CV] ................. max_depth=4, min_samples_split=6, total=   0.0s\n",
      "[CV] max_depth=4, min_samples_split=6 ................................\n",
      "[CV] ................. max_depth=4, min_samples_split=6, total=   0.0s\n",
      "[CV] max_depth=4, min_samples_split=6 ................................\n",
      "[CV] ................. max_depth=4, min_samples_split=6, total=   0.0s\n",
      "[CV] max_depth=4, min_samples_split=8 ................................\n",
      "[CV] ................. max_depth=4, min_samples_split=8, total=   0.0s\n",
      "[CV] max_depth=4, min_samples_split=8 ................................\n",
      "[CV] ................. max_depth=4, min_samples_split=8, total=   0.0s\n",
      "[CV] max_depth=4, min_samples_split=8 ................................\n",
      "[CV] ................. max_depth=4, min_samples_split=8, total=   0.0s\n",
      "[CV] max_depth=4, min_samples_split=8 ................................\n",
      "[CV] ................. max_depth=4, min_samples_split=8, total=   0.0s\n",
      "[CV] max_depth=4, min_samples_split=8 ................................\n",
      "[CV] ................. max_depth=4, min_samples_split=8, total=   0.0s\n",
      "[CV] max_depth=4, min_samples_split=10 ...............................\n",
      "[CV] ................ max_depth=4, min_samples_split=10, total=   0.0s\n",
      "[CV] max_depth=4, min_samples_split=10 ...............................\n",
      "[CV] ................ max_depth=4, min_samples_split=10, total=   0.0s\n",
      "[CV] max_depth=4, min_samples_split=10 ...............................\n",
      "[CV] ................ max_depth=4, min_samples_split=10, total=   0.0s\n",
      "[CV] max_depth=4, min_samples_split=10 ...............................\n",
      "[CV] ................ max_depth=4, min_samples_split=10, total=   0.0s\n",
      "[CV] max_depth=4, min_samples_split=10 ...............................\n",
      "[CV] ................ max_depth=4, min_samples_split=10, total=   0.0s\n",
      "[CV] max_depth=4, min_samples_split=12 ...............................\n",
      "[CV] ................ max_depth=4, min_samples_split=12, total=   0.0s\n",
      "[CV] max_depth=4, min_samples_split=12 ...............................\n",
      "[CV] ................ max_depth=4, min_samples_split=12, total=   0.0s\n",
      "[CV] max_depth=4, min_samples_split=12 ...............................\n",
      "[CV] ................ max_depth=4, min_samples_split=12, total=   0.0s\n",
      "[CV] max_depth=4, min_samples_split=12 ...............................\n",
      "[CV] ................ max_depth=4, min_samples_split=12, total=   0.0s\n",
      "[CV] max_depth=4, min_samples_split=12 ...............................\n",
      "[CV] ................ max_depth=4, min_samples_split=12, total=   0.0s\n",
      "[CV] max_depth=4, min_samples_split=14 ...............................\n",
      "[CV] ................ max_depth=4, min_samples_split=14, total=   0.0s\n",
      "[CV] max_depth=4, min_samples_split=14 ...............................\n",
      "[CV] ................ max_depth=4, min_samples_split=14, total=   0.0s\n",
      "[CV] max_depth=4, min_samples_split=14 ...............................\n",
      "[CV] ................ max_depth=4, min_samples_split=14, total=   0.0s\n",
      "[CV] max_depth=4, min_samples_split=14 ...............................\n",
      "[CV] ................ max_depth=4, min_samples_split=14, total=   0.0s\n",
      "[CV] max_depth=4, min_samples_split=14 ...............................\n",
      "[CV] ................ max_depth=4, min_samples_split=14, total=   0.0s\n",
      "[CV] max_depth=6, min_samples_split=2 ................................\n",
      "[CV] ................. max_depth=6, min_samples_split=2, total=   0.0s\n",
      "[CV] max_depth=6, min_samples_split=2 ................................\n",
      "[CV] ................. max_depth=6, min_samples_split=2, total=   0.0s\n",
      "[CV] max_depth=6, min_samples_split=2 ................................\n",
      "[CV] ................. max_depth=6, min_samples_split=2, total=   0.0s\n",
      "[CV] max_depth=6, min_samples_split=2 ................................\n",
      "[CV] ................. max_depth=6, min_samples_split=2, total=   0.0s\n",
      "[CV] max_depth=6, min_samples_split=2 ................................\n",
      "[CV] ................. max_depth=6, min_samples_split=2, total=   0.0s\n",
      "[CV] max_depth=6, min_samples_split=4 ................................\n",
      "[CV] ................. max_depth=6, min_samples_split=4, total=   0.0s\n",
      "[CV] max_depth=6, min_samples_split=4 ................................\n"
     ]
    },
    {
     "name": "stdout",
     "output_type": "stream",
     "text": [
      "[CV] ................. max_depth=6, min_samples_split=4, total=   0.0s\n",
      "[CV] max_depth=6, min_samples_split=4 ................................\n",
      "[CV] ................. max_depth=6, min_samples_split=4, total=   0.0s\n",
      "[CV] max_depth=6, min_samples_split=4 ................................\n",
      "[CV] ................. max_depth=6, min_samples_split=4, total=   0.0s\n",
      "[CV] max_depth=6, min_samples_split=4 ................................\n",
      "[CV] ................. max_depth=6, min_samples_split=4, total=   0.0s\n",
      "[CV] max_depth=6, min_samples_split=6 ................................\n",
      "[CV] ................. max_depth=6, min_samples_split=6, total=   0.0s\n",
      "[CV] max_depth=6, min_samples_split=6 ................................\n",
      "[CV] ................. max_depth=6, min_samples_split=6, total=   0.0s\n",
      "[CV] max_depth=6, min_samples_split=6 ................................\n",
      "[CV] ................. max_depth=6, min_samples_split=6, total=   0.0s\n",
      "[CV] max_depth=6, min_samples_split=6 ................................\n",
      "[CV] ................. max_depth=6, min_samples_split=6, total=   0.0s\n",
      "[CV] max_depth=6, min_samples_split=6 ................................\n",
      "[CV] ................. max_depth=6, min_samples_split=6, total=   0.0s\n",
      "[CV] max_depth=6, min_samples_split=8 ................................\n",
      "[CV] ................. max_depth=6, min_samples_split=8, total=   0.0s\n",
      "[CV] max_depth=6, min_samples_split=8 ................................\n",
      "[CV] ................. max_depth=6, min_samples_split=8, total=   0.0s\n",
      "[CV] max_depth=6, min_samples_split=8 ................................\n",
      "[CV] ................. max_depth=6, min_samples_split=8, total=   0.0s\n",
      "[CV] max_depth=6, min_samples_split=8 ................................\n",
      "[CV] ................. max_depth=6, min_samples_split=8, total=   0.0s\n",
      "[CV] max_depth=6, min_samples_split=8 ................................\n",
      "[CV] ................. max_depth=6, min_samples_split=8, total=   0.0s\n",
      "[CV] max_depth=6, min_samples_split=10 ...............................\n",
      "[CV] ................ max_depth=6, min_samples_split=10, total=   0.0s\n",
      "[CV] max_depth=6, min_samples_split=10 ...............................\n",
      "[CV] ................ max_depth=6, min_samples_split=10, total=   0.0s\n",
      "[CV] max_depth=6, min_samples_split=10 ...............................\n",
      "[CV] ................ max_depth=6, min_samples_split=10, total=   0.0s\n",
      "[CV] max_depth=6, min_samples_split=10 ...............................\n",
      "[CV] ................ max_depth=6, min_samples_split=10, total=   0.0s\n",
      "[CV] max_depth=6, min_samples_split=10 ...............................\n",
      "[CV] ................ max_depth=6, min_samples_split=10, total=   0.0s\n",
      "[CV] max_depth=6, min_samples_split=12 ...............................\n",
      "[CV] ................ max_depth=6, min_samples_split=12, total=   0.0s\n",
      "[CV] max_depth=6, min_samples_split=12 ...............................\n",
      "[CV] ................ max_depth=6, min_samples_split=12, total=   0.0s\n",
      "[CV] max_depth=6, min_samples_split=12 ...............................\n",
      "[CV] ................ max_depth=6, min_samples_split=12, total=   0.0s\n",
      "[CV] max_depth=6, min_samples_split=12 ...............................\n",
      "[CV] ................ max_depth=6, min_samples_split=12, total=   0.0s\n",
      "[CV] max_depth=6, min_samples_split=12 ...............................\n",
      "[CV] ................ max_depth=6, min_samples_split=12, total=   0.0s\n",
      "[CV] max_depth=6, min_samples_split=14 ...............................\n",
      "[CV] ................ max_depth=6, min_samples_split=14, total=   0.0s\n",
      "[CV] max_depth=6, min_samples_split=14 ...............................\n",
      "[CV] ................ max_depth=6, min_samples_split=14, total=   0.0s\n",
      "[CV] max_depth=6, min_samples_split=14 ...............................\n",
      "[CV] ................ max_depth=6, min_samples_split=14, total=   0.0s\n",
      "[CV] max_depth=6, min_samples_split=14 ...............................\n",
      "[CV] ................ max_depth=6, min_samples_split=14, total=   0.0s\n",
      "[CV] max_depth=6, min_samples_split=14 ...............................\n",
      "[CV] ................ max_depth=6, min_samples_split=14, total=   0.0s\n",
      "[CV] max_depth=8, min_samples_split=2 ................................\n",
      "[CV] ................. max_depth=8, min_samples_split=2, total=   0.0s\n",
      "[CV] max_depth=8, min_samples_split=2 ................................\n",
      "[CV] ................. max_depth=8, min_samples_split=2, total=   0.0s\n",
      "[CV] max_depth=8, min_samples_split=2 ................................\n",
      "[CV] ................. max_depth=8, min_samples_split=2, total=   0.0s\n",
      "[CV] max_depth=8, min_samples_split=2 ................................\n",
      "[CV] ................. max_depth=8, min_samples_split=2, total=   0.0s\n",
      "[CV] max_depth=8, min_samples_split=2 ................................\n",
      "[CV] ................. max_depth=8, min_samples_split=2, total=   0.0s\n",
      "[CV] max_depth=8, min_samples_split=4 ................................\n",
      "[CV] ................. max_depth=8, min_samples_split=4, total=   0.0s\n",
      "[CV] max_depth=8, min_samples_split=4 ................................\n",
      "[CV] ................. max_depth=8, min_samples_split=4, total=   0.0s\n",
      "[CV] max_depth=8, min_samples_split=4 ................................\n",
      "[CV] ................. max_depth=8, min_samples_split=4, total=   0.0s\n",
      "[CV] max_depth=8, min_samples_split=4 ................................\n",
      "[CV] ................. max_depth=8, min_samples_split=4, total=   0.0s\n",
      "[CV] max_depth=8, min_samples_split=4 ................................\n",
      "[CV] ................. max_depth=8, min_samples_split=4, total=   0.0s\n",
      "[CV] max_depth=8, min_samples_split=6 ................................\n",
      "[CV] ................. max_depth=8, min_samples_split=6, total=   0.0s\n",
      "[CV] max_depth=8, min_samples_split=6 ................................\n",
      "[CV] ................. max_depth=8, min_samples_split=6, total=   0.0s\n",
      "[CV] max_depth=8, min_samples_split=6 ................................\n",
      "[CV] ................. max_depth=8, min_samples_split=6, total=   0.1s\n",
      "[CV] max_depth=8, min_samples_split=6 ................................\n",
      "[CV] ................. max_depth=8, min_samples_split=6, total=   0.1s\n",
      "[CV] max_depth=8, min_samples_split=6 ................................\n",
      "[CV] ................. max_depth=8, min_samples_split=6, total=   0.0s\n",
      "[CV] max_depth=8, min_samples_split=8 ................................\n",
      "[CV] ................. max_depth=8, min_samples_split=8, total=   0.0s\n",
      "[CV] max_depth=8, min_samples_split=8 ................................\n",
      "[CV] ................. max_depth=8, min_samples_split=8, total=   0.0s\n",
      "[CV] max_depth=8, min_samples_split=8 ................................\n",
      "[CV] ................. max_depth=8, min_samples_split=8, total=   0.0s\n",
      "[CV] max_depth=8, min_samples_split=8 ................................\n",
      "[CV] ................. max_depth=8, min_samples_split=8, total=   0.0s\n",
      "[CV] max_depth=8, min_samples_split=8 ................................\n",
      "[CV] ................. max_depth=8, min_samples_split=8, total=   0.0s\n",
      "[CV] max_depth=8, min_samples_split=10 ...............................\n",
      "[CV] ................ max_depth=8, min_samples_split=10, total=   0.0s\n",
      "[CV] max_depth=8, min_samples_split=10 ...............................\n",
      "[CV] ................ max_depth=8, min_samples_split=10, total=   0.0s\n",
      "[CV] max_depth=8, min_samples_split=10 ...............................\n",
      "[CV] ................ max_depth=8, min_samples_split=10, total=   0.0s\n",
      "[CV] max_depth=8, min_samples_split=10 ...............................\n",
      "[CV] ................ max_depth=8, min_samples_split=10, total=   0.0s\n",
      "[CV] max_depth=8, min_samples_split=10 ...............................\n",
      "[CV] ................ max_depth=8, min_samples_split=10, total=   0.0s\n",
      "[CV] max_depth=8, min_samples_split=12 ...............................\n",
      "[CV] ................ max_depth=8, min_samples_split=12, total=   0.0s\n",
      "[CV] max_depth=8, min_samples_split=12 ...............................\n",
      "[CV] ................ max_depth=8, min_samples_split=12, total=   0.0s\n",
      "[CV] max_depth=8, min_samples_split=12 ...............................\n",
      "[CV] ................ max_depth=8, min_samples_split=12, total=   0.1s\n",
      "[CV] max_depth=8, min_samples_split=12 ...............................\n",
      "[CV] ................ max_depth=8, min_samples_split=12, total=   0.1s\n",
      "[CV] max_depth=8, min_samples_split=12 ...............................\n"
     ]
    },
    {
     "name": "stdout",
     "output_type": "stream",
     "text": [
      "[CV] ................ max_depth=8, min_samples_split=12, total=   0.0s\n",
      "[CV] max_depth=8, min_samples_split=14 ...............................\n",
      "[CV] ................ max_depth=8, min_samples_split=14, total=   0.0s\n",
      "[CV] max_depth=8, min_samples_split=14 ...............................\n",
      "[CV] ................ max_depth=8, min_samples_split=14, total=   0.0s\n",
      "[CV] max_depth=8, min_samples_split=14 ...............................\n",
      "[CV] ................ max_depth=8, min_samples_split=14, total=   0.0s\n",
      "[CV] max_depth=8, min_samples_split=14 ...............................\n",
      "[CV] ................ max_depth=8, min_samples_split=14, total=   0.0s\n",
      "[CV] max_depth=8, min_samples_split=14 ...............................\n",
      "[CV] ................ max_depth=8, min_samples_split=14, total=   0.0s\n",
      "[CV] max_depth=10, min_samples_split=2 ...............................\n",
      "[CV] ................ max_depth=10, min_samples_split=2, total=   0.1s\n",
      "[CV] max_depth=10, min_samples_split=2 ...............................\n",
      "[CV] ................ max_depth=10, min_samples_split=2, total=   0.0s\n",
      "[CV] max_depth=10, min_samples_split=2 ...............................\n",
      "[CV] ................ max_depth=10, min_samples_split=2, total=   0.1s\n",
      "[CV] max_depth=10, min_samples_split=2 ...............................\n",
      "[CV] ................ max_depth=10, min_samples_split=2, total=   0.1s\n",
      "[CV] max_depth=10, min_samples_split=2 ...............................\n",
      "[CV] ................ max_depth=10, min_samples_split=2, total=   0.0s\n",
      "[CV] max_depth=10, min_samples_split=4 ...............................\n",
      "[CV] ................ max_depth=10, min_samples_split=4, total=   0.0s\n",
      "[CV] max_depth=10, min_samples_split=4 ...............................\n",
      "[CV] ................ max_depth=10, min_samples_split=4, total=   0.0s\n",
      "[CV] max_depth=10, min_samples_split=4 ...............................\n",
      "[CV] ................ max_depth=10, min_samples_split=4, total=   0.0s\n",
      "[CV] max_depth=10, min_samples_split=4 ...............................\n",
      "[CV] ................ max_depth=10, min_samples_split=4, total=   0.1s\n",
      "[CV] max_depth=10, min_samples_split=4 ...............................\n",
      "[CV] ................ max_depth=10, min_samples_split=4, total=   0.1s\n",
      "[CV] max_depth=10, min_samples_split=6 ...............................\n",
      "[CV] ................ max_depth=10, min_samples_split=6, total=   0.1s\n",
      "[CV] max_depth=10, min_samples_split=6 ...............................\n",
      "[CV] ................ max_depth=10, min_samples_split=6, total=   0.1s\n",
      "[CV] max_depth=10, min_samples_split=6 ...............................\n",
      "[CV] ................ max_depth=10, min_samples_split=6, total=   0.0s\n",
      "[CV] max_depth=10, min_samples_split=6 ...............................\n",
      "[CV] ................ max_depth=10, min_samples_split=6, total=   0.0s\n",
      "[CV] max_depth=10, min_samples_split=6 ...............................\n",
      "[CV] ................ max_depth=10, min_samples_split=6, total=   0.0s\n",
      "[CV] max_depth=10, min_samples_split=8 ...............................\n",
      "[CV] ................ max_depth=10, min_samples_split=8, total=   0.0s\n",
      "[CV] max_depth=10, min_samples_split=8 ...............................\n",
      "[CV] ................ max_depth=10, min_samples_split=8, total=   0.0s\n",
      "[CV] max_depth=10, min_samples_split=8 ...............................\n",
      "[CV] ................ max_depth=10, min_samples_split=8, total=   0.1s\n",
      "[CV] max_depth=10, min_samples_split=8 ...............................\n",
      "[CV] ................ max_depth=10, min_samples_split=8, total=   0.1s\n",
      "[CV] max_depth=10, min_samples_split=8 ...............................\n",
      "[CV] ................ max_depth=10, min_samples_split=8, total=   0.1s\n",
      "[CV] max_depth=10, min_samples_split=10 ..............................\n",
      "[CV] ............... max_depth=10, min_samples_split=10, total=   0.0s\n",
      "[CV] max_depth=10, min_samples_split=10 ..............................\n",
      "[CV] ............... max_depth=10, min_samples_split=10, total=   0.0s\n",
      "[CV] max_depth=10, min_samples_split=10 ..............................\n",
      "[CV] ............... max_depth=10, min_samples_split=10, total=   0.0s\n",
      "[CV] max_depth=10, min_samples_split=10 ..............................\n",
      "[CV] ............... max_depth=10, min_samples_split=10, total=   0.1s\n",
      "[CV] max_depth=10, min_samples_split=10 ..............................\n",
      "[CV] ............... max_depth=10, min_samples_split=10, total=   0.1s\n",
      "[CV] max_depth=10, min_samples_split=12 ..............................\n",
      "[CV] ............... max_depth=10, min_samples_split=12, total=   0.1s\n",
      "[CV] max_depth=10, min_samples_split=12 ..............................\n",
      "[CV] ............... max_depth=10, min_samples_split=12, total=   0.1s\n",
      "[CV] max_depth=10, min_samples_split=12 ..............................\n",
      "[CV] ............... max_depth=10, min_samples_split=12, total=   0.1s\n",
      "[CV] max_depth=10, min_samples_split=12 ..............................\n",
      "[CV] ............... max_depth=10, min_samples_split=12, total=   0.0s\n",
      "[CV] max_depth=10, min_samples_split=12 ..............................\n",
      "[CV] ............... max_depth=10, min_samples_split=12, total=   0.1s\n",
      "[CV] max_depth=10, min_samples_split=14 ..............................\n",
      "[CV] ............... max_depth=10, min_samples_split=14, total=   0.1s\n",
      "[CV] max_depth=10, min_samples_split=14 ..............................\n",
      "[CV] ............... max_depth=10, min_samples_split=14, total=   0.1s\n",
      "[CV] max_depth=10, min_samples_split=14 ..............................\n",
      "[CV] ............... max_depth=10, min_samples_split=14, total=   0.1s\n",
      "[CV] max_depth=10, min_samples_split=14 ..............................\n",
      "[CV] ............... max_depth=10, min_samples_split=14, total=   0.1s\n",
      "[CV] max_depth=10, min_samples_split=14 ..............................\n",
      "[CV] ............... max_depth=10, min_samples_split=14, total=   0.0s\n",
      "[CV] max_depth=12, min_samples_split=2 ...............................\n",
      "[CV] ................ max_depth=12, min_samples_split=2, total=   0.1s\n",
      "[CV] max_depth=12, min_samples_split=2 ...............................\n",
      "[CV] ................ max_depth=12, min_samples_split=2, total=   0.1s\n",
      "[CV] max_depth=12, min_samples_split=2 ...............................\n",
      "[CV] ................ max_depth=12, min_samples_split=2, total=   0.1s\n",
      "[CV] max_depth=12, min_samples_split=2 ...............................\n",
      "[CV] ................ max_depth=12, min_samples_split=2, total=   0.1s\n",
      "[CV] max_depth=12, min_samples_split=2 ...............................\n",
      "[CV] ................ max_depth=12, min_samples_split=2, total=   0.1s\n",
      "[CV] max_depth=12, min_samples_split=4 ...............................\n",
      "[CV] ................ max_depth=12, min_samples_split=4, total=   0.1s\n",
      "[CV] max_depth=12, min_samples_split=4 ...............................\n",
      "[CV] ................ max_depth=12, min_samples_split=4, total=   0.1s\n",
      "[CV] max_depth=12, min_samples_split=4 ...............................\n",
      "[CV] ................ max_depth=12, min_samples_split=4, total=   0.1s\n",
      "[CV] max_depth=12, min_samples_split=4 ...............................\n",
      "[CV] ................ max_depth=12, min_samples_split=4, total=   0.1s\n",
      "[CV] max_depth=12, min_samples_split=4 ...............................\n",
      "[CV] ................ max_depth=12, min_samples_split=4, total=   0.1s\n",
      "[CV] max_depth=12, min_samples_split=6 ...............................\n",
      "[CV] ................ max_depth=12, min_samples_split=6, total=   0.1s\n",
      "[CV] max_depth=12, min_samples_split=6 ...............................\n",
      "[CV] ................ max_depth=12, min_samples_split=6, total=   0.1s\n",
      "[CV] max_depth=12, min_samples_split=6 ...............................\n",
      "[CV] ................ max_depth=12, min_samples_split=6, total=   0.1s\n",
      "[CV] max_depth=12, min_samples_split=6 ...............................\n",
      "[CV] ................ max_depth=12, min_samples_split=6, total=   0.1s\n",
      "[CV] max_depth=12, min_samples_split=6 ...............................\n",
      "[CV] ................ max_depth=12, min_samples_split=6, total=   0.1s\n",
      "[CV] max_depth=12, min_samples_split=8 ...............................\n",
      "[CV] ................ max_depth=12, min_samples_split=8, total=   0.1s\n",
      "[CV] max_depth=12, min_samples_split=8 ...............................\n",
      "[CV] ................ max_depth=12, min_samples_split=8, total=   0.1s\n",
      "[CV] max_depth=12, min_samples_split=8 ...............................\n",
      "[CV] ................ max_depth=12, min_samples_split=8, total=   0.1s\n",
      "[CV] max_depth=12, min_samples_split=8 ...............................\n",
      "[CV] ................ max_depth=12, min_samples_split=8, total=   0.1s\n",
      "[CV] max_depth=12, min_samples_split=8 ...............................\n",
      "[CV] ................ max_depth=12, min_samples_split=8, total=   0.1s\n",
      "[CV] max_depth=12, min_samples_split=10 ..............................\n"
     ]
    },
    {
     "name": "stdout",
     "output_type": "stream",
     "text": [
      "[CV] ............... max_depth=12, min_samples_split=10, total=   0.1s\n",
      "[CV] max_depth=12, min_samples_split=10 ..............................\n",
      "[CV] ............... max_depth=12, min_samples_split=10, total=   0.1s\n",
      "[CV] max_depth=12, min_samples_split=10 ..............................\n",
      "[CV] ............... max_depth=12, min_samples_split=10, total=   0.0s\n",
      "[CV] max_depth=12, min_samples_split=10 ..............................\n",
      "[CV] ............... max_depth=12, min_samples_split=10, total=   0.0s\n",
      "[CV] max_depth=12, min_samples_split=10 ..............................\n",
      "[CV] ............... max_depth=12, min_samples_split=10, total=   0.1s\n",
      "[CV] max_depth=12, min_samples_split=12 ..............................\n",
      "[CV] ............... max_depth=12, min_samples_split=12, total=   0.0s\n",
      "[CV] max_depth=12, min_samples_split=12 ..............................\n",
      "[CV] ............... max_depth=12, min_samples_split=12, total=   0.0s\n",
      "[CV] max_depth=12, min_samples_split=12 ..............................\n",
      "[CV] ............... max_depth=12, min_samples_split=12, total=   0.0s\n",
      "[CV] max_depth=12, min_samples_split=12 ..............................\n",
      "[CV] ............... max_depth=12, min_samples_split=12, total=   0.0s\n",
      "[CV] max_depth=12, min_samples_split=12 ..............................\n",
      "[CV] ............... max_depth=12, min_samples_split=12, total=   0.1s\n",
      "[CV] max_depth=12, min_samples_split=14 ..............................\n",
      "[CV] ............... max_depth=12, min_samples_split=14, total=   0.0s\n",
      "[CV] max_depth=12, min_samples_split=14 ..............................\n",
      "[CV] ............... max_depth=12, min_samples_split=14, total=   0.0s\n",
      "[CV] max_depth=12, min_samples_split=14 ..............................\n",
      "[CV] ............... max_depth=12, min_samples_split=14, total=   0.0s\n",
      "[CV] max_depth=12, min_samples_split=14 ..............................\n",
      "[CV] ............... max_depth=12, min_samples_split=14, total=   0.0s\n",
      "[CV] max_depth=12, min_samples_split=14 ..............................\n",
      "[CV] ............... max_depth=12, min_samples_split=14, total=   0.1s\n",
      "[CV] max_depth=14, min_samples_split=2 ...............................\n",
      "[CV] ................ max_depth=14, min_samples_split=2, total=   0.1s\n",
      "[CV] max_depth=14, min_samples_split=2 ...............................\n",
      "[CV] ................ max_depth=14, min_samples_split=2, total=   0.1s\n",
      "[CV] max_depth=14, min_samples_split=2 ...............................\n",
      "[CV] ................ max_depth=14, min_samples_split=2, total=   0.1s\n",
      "[CV] max_depth=14, min_samples_split=2 ...............................\n",
      "[CV] ................ max_depth=14, min_samples_split=2, total=   0.1s\n",
      "[CV] max_depth=14, min_samples_split=2 ...............................\n",
      "[CV] ................ max_depth=14, min_samples_split=2, total=   0.1s\n",
      "[CV] max_depth=14, min_samples_split=4 ...............................\n",
      "[CV] ................ max_depth=14, min_samples_split=4, total=   0.1s\n",
      "[CV] max_depth=14, min_samples_split=4 ...............................\n",
      "[CV] ................ max_depth=14, min_samples_split=4, total=   0.1s\n",
      "[CV] max_depth=14, min_samples_split=4 ...............................\n",
      "[CV] ................ max_depth=14, min_samples_split=4, total=   0.1s\n",
      "[CV] max_depth=14, min_samples_split=4 ...............................\n",
      "[CV] ................ max_depth=14, min_samples_split=4, total=   0.1s\n",
      "[CV] max_depth=14, min_samples_split=4 ...............................\n",
      "[CV] ................ max_depth=14, min_samples_split=4, total=   0.1s\n",
      "[CV] max_depth=14, min_samples_split=6 ...............................\n",
      "[CV] ................ max_depth=14, min_samples_split=6, total=   0.1s\n",
      "[CV] max_depth=14, min_samples_split=6 ...............................\n",
      "[CV] ................ max_depth=14, min_samples_split=6, total=   0.1s\n",
      "[CV] max_depth=14, min_samples_split=6 ...............................\n",
      "[CV] ................ max_depth=14, min_samples_split=6, total=   0.1s\n",
      "[CV] max_depth=14, min_samples_split=6 ...............................\n",
      "[CV] ................ max_depth=14, min_samples_split=6, total=   0.1s\n",
      "[CV] max_depth=14, min_samples_split=6 ...............................\n",
      "[CV] ................ max_depth=14, min_samples_split=6, total=   0.1s\n",
      "[CV] max_depth=14, min_samples_split=8 ...............................\n",
      "[CV] ................ max_depth=14, min_samples_split=8, total=   0.1s\n",
      "[CV] max_depth=14, min_samples_split=8 ...............................\n",
      "[CV] ................ max_depth=14, min_samples_split=8, total=   0.1s\n",
      "[CV] max_depth=14, min_samples_split=8 ...............................\n",
      "[CV] ................ max_depth=14, min_samples_split=8, total=   0.1s\n",
      "[CV] max_depth=14, min_samples_split=8 ...............................\n",
      "[CV] ................ max_depth=14, min_samples_split=8, total=   0.1s\n",
      "[CV] max_depth=14, min_samples_split=8 ...............................\n",
      "[CV] ................ max_depth=14, min_samples_split=8, total=   0.1s\n",
      "[CV] max_depth=14, min_samples_split=10 ..............................\n",
      "[CV] ............... max_depth=14, min_samples_split=10, total=   0.1s\n",
      "[CV] max_depth=14, min_samples_split=10 ..............................\n",
      "[CV] ............... max_depth=14, min_samples_split=10, total=   0.1s\n",
      "[CV] max_depth=14, min_samples_split=10 ..............................\n",
      "[CV] ............... max_depth=14, min_samples_split=10, total=   0.1s\n",
      "[CV] max_depth=14, min_samples_split=10 ..............................\n",
      "[CV] ............... max_depth=14, min_samples_split=10, total=   0.1s\n",
      "[CV] max_depth=14, min_samples_split=10 ..............................\n",
      "[CV] ............... max_depth=14, min_samples_split=10, total=   0.1s\n",
      "[CV] max_depth=14, min_samples_split=12 ..............................\n",
      "[CV] ............... max_depth=14, min_samples_split=12, total=   0.1s\n",
      "[CV] max_depth=14, min_samples_split=12 ..............................\n",
      "[CV] ............... max_depth=14, min_samples_split=12, total=   0.1s\n",
      "[CV] max_depth=14, min_samples_split=12 ..............................\n",
      "[CV] ............... max_depth=14, min_samples_split=12, total=   0.1s\n",
      "[CV] max_depth=14, min_samples_split=12 ..............................\n",
      "[CV] ............... max_depth=14, min_samples_split=12, total=   0.1s\n",
      "[CV] max_depth=14, min_samples_split=12 ..............................\n",
      "[CV] ............... max_depth=14, min_samples_split=12, total=   0.1s\n",
      "[CV] max_depth=14, min_samples_split=14 ..............................\n",
      "[CV] ............... max_depth=14, min_samples_split=14, total=   0.1s\n",
      "[CV] max_depth=14, min_samples_split=14 ..............................\n",
      "[CV] ............... max_depth=14, min_samples_split=14, total=   0.1s\n",
      "[CV] max_depth=14, min_samples_split=14 ..............................\n",
      "[CV] ............... max_depth=14, min_samples_split=14, total=   0.1s\n",
      "[CV] max_depth=14, min_samples_split=14 ..............................\n",
      "[CV] ............... max_depth=14, min_samples_split=14, total=   0.1s\n",
      "[CV] max_depth=14, min_samples_split=14 ..............................\n",
      "[CV] ............... max_depth=14, min_samples_split=14, total=   0.1s\n",
      "CPU times: user 8.91 s, sys: 244 ms, total: 9.15 s\n",
      "Wall time: 9.57 s\n"
     ]
    },
    {
     "name": "stderr",
     "output_type": "stream",
     "text": [
      "[Parallel(n_jobs=1)]: Done 245 out of 245 | elapsed:    9.5s finished\n"
     ]
    }
   ],
   "source": [
    "param_grid = {'max_depth': range(2,16,2),\n",
    "              'min_samples_split': range(2,16,2)}\n",
    "\n",
    "clf = GridSearchCV(DecisionTreeRegressor(), \n",
    "                   param_grid,\n",
    "                   cv=5 , n_jobs=1, verbose=2)\n",
    "%time _ = clf.fit(X_train,y_train)"
   ]
  },
  {
   "cell_type": "code",
   "execution_count": 143,
   "metadata": {},
   "outputs": [],
   "source": [
    "y_pred34 = clf.predict(X_test)\n"
   ]
  },
  {
   "cell_type": "code",
   "execution_count": 144,
   "metadata": {},
   "outputs": [
    {
     "data": {
      "text/plain": [
       "628.975337661271"
      ]
     },
     "execution_count": 144,
     "metadata": {},
     "output_type": "execute_result"
    }
   ],
   "source": [
    "np.sqrt(mean_squared_error(y_test,y_pred34))\n"
   ]
  },
  {
   "cell_type": "code",
   "execution_count": 145,
   "metadata": {},
   "outputs": [],
   "source": [
    "y_pred35 = clf.predict(X[:8069])"
   ]
  },
  {
   "cell_type": "code",
   "execution_count": 146,
   "metadata": {},
   "outputs": [
    {
     "data": {
      "text/plain": [
       "5541.397218658973"
      ]
     },
     "execution_count": 146,
     "metadata": {},
     "output_type": "execute_result"
    }
   ],
   "source": [
    "np.sqrt(mean_squared_error(y_test,y_pred35))\n"
   ]
  },
  {
   "cell_type": "code",
   "execution_count": 148,
   "metadata": {},
   "outputs": [],
   "source": [
    "y_pred36 = clf.predict(test)"
   ]
  },
  {
   "cell_type": "markdown",
   "metadata": {},
   "source": [
    "# H2O"
   ]
  },
  {
   "cell_type": "code",
   "execution_count": null,
   "metadata": {},
   "outputs": [],
   "source": [
    "# OTHER JN"
   ]
  },
  {
   "cell_type": "code",
   "execution_count": null,
   "metadata": {},
   "outputs": [],
   "source": []
  },
  {
   "cell_type": "code",
   "execution_count": null,
   "metadata": {},
   "outputs": [],
   "source": []
  },
  {
   "cell_type": "markdown",
   "metadata": {},
   "source": [
    "# PRUEBAS"
   ]
  },
  {
   "cell_type": "code",
   "execution_count": null,
   "metadata": {},
   "outputs": [],
   "source": []
  },
  {
   "cell_type": "code",
   "execution_count": null,
   "metadata": {},
   "outputs": [],
   "source": []
  },
  {
   "cell_type": "code",
   "execution_count": null,
   "metadata": {},
   "outputs": [],
   "source": []
  },
  {
   "cell_type": "markdown",
   "metadata": {},
   "source": [
    "# TO CSV"
   ]
  },
  {
   "cell_type": "code",
   "execution_count": 161,
   "metadata": {},
   "outputs": [],
   "source": [
    "result=pd.DataFrame(y_pred24).reset_index()"
   ]
  },
  {
   "cell_type": "code",
   "execution_count": 162,
   "metadata": {},
   "outputs": [
    {
     "data": {
      "text/html": [
       "<div>\n",
       "<style scoped>\n",
       "    .dataframe tbody tr th:only-of-type {\n",
       "        vertical-align: middle;\n",
       "    }\n",
       "\n",
       "    .dataframe tbody tr th {\n",
       "        vertical-align: top;\n",
       "    }\n",
       "\n",
       "    .dataframe thead th {\n",
       "        text-align: right;\n",
       "    }\n",
       "</style>\n",
       "<table border=\"1\" class=\"dataframe\">\n",
       "  <thead>\n",
       "    <tr style=\"text-align: right;\">\n",
       "      <th></th>\n",
       "      <th>index</th>\n",
       "      <th>0</th>\n",
       "    </tr>\n",
       "  </thead>\n",
       "  <tbody>\n",
       "    <tr>\n",
       "      <th>0</th>\n",
       "      <td>0</td>\n",
       "      <td>436.684214</td>\n",
       "    </tr>\n",
       "    <tr>\n",
       "      <th>1</th>\n",
       "      <td>1</td>\n",
       "      <td>1545.820346</td>\n",
       "    </tr>\n",
       "    <tr>\n",
       "      <th>2</th>\n",
       "      <td>2</td>\n",
       "      <td>9751.274093</td>\n",
       "    </tr>\n",
       "    <tr>\n",
       "      <th>3</th>\n",
       "      <td>3</td>\n",
       "      <td>598.900697</td>\n",
       "    </tr>\n",
       "    <tr>\n",
       "      <th>4</th>\n",
       "      <td>4</td>\n",
       "      <td>9587.554912</td>\n",
       "    </tr>\n",
       "    <tr>\n",
       "      <th>...</th>\n",
       "      <td>...</td>\n",
       "      <td>...</td>\n",
       "    </tr>\n",
       "    <tr>\n",
       "      <th>13444</th>\n",
       "      <td>13444</td>\n",
       "      <td>4570.380400</td>\n",
       "    </tr>\n",
       "    <tr>\n",
       "      <th>13445</th>\n",
       "      <td>13445</td>\n",
       "      <td>436.687556</td>\n",
       "    </tr>\n",
       "    <tr>\n",
       "      <th>13446</th>\n",
       "      <td>13446</td>\n",
       "      <td>14546.143079</td>\n",
       "    </tr>\n",
       "    <tr>\n",
       "      <th>13447</th>\n",
       "      <td>13447</td>\n",
       "      <td>10468.887235</td>\n",
       "    </tr>\n",
       "    <tr>\n",
       "      <th>13448</th>\n",
       "      <td>13448</td>\n",
       "      <td>788.826275</td>\n",
       "    </tr>\n",
       "  </tbody>\n",
       "</table>\n",
       "<p>13449 rows × 2 columns</p>\n",
       "</div>"
      ],
      "text/plain": [
       "       index             0\n",
       "0          0    436.684214\n",
       "1          1   1545.820346\n",
       "2          2   9751.274093\n",
       "3          3    598.900697\n",
       "4          4   9587.554912\n",
       "...      ...           ...\n",
       "13444  13444   4570.380400\n",
       "13445  13445    436.687556\n",
       "13446  13446  14546.143079\n",
       "13447  13447  10468.887235\n",
       "13448  13448    788.826275\n",
       "\n",
       "[13449 rows x 2 columns]"
      ]
     },
     "execution_count": 162,
     "metadata": {},
     "output_type": "execute_result"
    }
   ],
   "source": [
    "result"
   ]
  },
  {
   "cell_type": "code",
   "execution_count": 163,
   "metadata": {},
   "outputs": [],
   "source": [
    "result.to_csv(\"my_submition17\",index=False,header=[\"id\",\"price\"])"
   ]
  },
  {
   "cell_type": "code",
   "execution_count": 164,
   "metadata": {},
   "outputs": [
    {
     "data": {
      "text/plain": [
       "(13449, 2)"
      ]
     },
     "execution_count": 164,
     "metadata": {},
     "output_type": "execute_result"
    }
   ],
   "source": [
    "result.shape"
   ]
  },
  {
   "cell_type": "code",
   "execution_count": null,
   "metadata": {},
   "outputs": [],
   "source": []
  },
  {
   "cell_type": "code",
   "execution_count": null,
   "metadata": {},
   "outputs": [],
   "source": []
  }
 ],
 "metadata": {
  "kernelspec": {
   "display_name": "Python 3",
   "language": "python",
   "name": "python3"
  },
  "language_info": {
   "codemirror_mode": {
    "name": "ipython",
    "version": 3
   },
   "file_extension": ".py",
   "mimetype": "text/x-python",
   "name": "python",
   "nbconvert_exporter": "python",
   "pygments_lexer": "ipython3",
   "version": "3.7.4"
  }
 },
 "nbformat": 4,
 "nbformat_minor": 2
}
